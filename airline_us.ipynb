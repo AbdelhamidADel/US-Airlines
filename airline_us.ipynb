{
  "metadata": {
    "kernelspec": {
      "language": "python",
      "display_name": "Python 3",
      "name": "python3"
    },
    "language_info": {
      "name": "python",
      "version": "3.7.10",
      "mimetype": "text/x-python",
      "codemirror_mode": {
        "name": "ipython",
        "version": 3
      },
      "pygments_lexer": "ipython3",
      "nbconvert_exporter": "python",
      "file_extension": ".py"
    },
    "colab": {
      "provenance": []
    },
    "accelerator": "GPU",
    "gpuClass": "standard"
  },
  "nbformat_minor": 0,
  "nbformat": 4,
  "cells": [
    {
      "cell_type": "markdown",
      "source": [
        "<div style=\"color:white;\n",
        "           display:fill;\n",
        "           border-radius:5px;\n",
        "           font-size:110%;\n",
        "           font-family:cursive;\n",
        "           letter-spacing:0.5px;\n",
        "           background-color:powderblue;\n",
        "           color:Black;\n",
        "           font-family:cursive\n",
        "           \">\n",
        "<h1 style=\"text-align:center;font-weight: bold\"> Importing Libraries </h1>\n",
        "</div>\n"
      ],
      "metadata": {
        "id": "n-hSmtQMEOQm"
      }
    },
    {
      "cell_type": "code",
      "source": [
        "!pip install lime\n",
        "import pandas as pd\n",
        "import numpy as np\n",
        "import seaborn as sns\n",
        "import matplotlib.pyplot as plt \n",
        "import re, nltk,string\n",
        "from nltk.corpus import stopwords\n",
        "nltk.download('punkt')\n",
        "nltk.download('stopwords')\n",
        "\n",
        "from sklearn.model_selection import train_test_split, StratifiedKFold, cross_val_score,GridSearchCV\n",
        "from sklearn import  svm,model_selection\n",
        "from sklearn.metrics import classification_report,confusion_matrix,auc,precision_recall_curve,recall_score,f1_score,accuracy_score\n",
        "from sklearn.feature_extraction.text import CountVectorizer, TfidfVectorizer\n",
        "from sklearn.naive_bayes import MultinomialNB, GaussianNB\n",
        "from sklearn.ensemble import RandomForestClassifier ,BaggingClassifier,AdaBoostClassifier\n",
        "\n",
        "import pickle"
      ],
      "metadata": {
        "execution": {
          "iopub.status.busy": "2022-01-06T07:19:23.688808Z",
          "iopub.execute_input": "2022-01-06T07:19:23.689094Z",
          "iopub.status.idle": "2022-01-06T07:19:29.655528Z",
          "shell.execute_reply.started": "2022-01-06T07:19:23.689021Z",
          "shell.execute_reply": "2022-01-06T07:19:29.654784Z"
        },
        "trusted": true,
        "colab": {
          "base_uri": "https://localhost:8080/"
        },
        "id": "jHgAyUZgEOQn",
        "outputId": "920cf3e4-5ded-45b2-cb8e-1dcbdcfaa9fc"
      },
      "execution_count": null,
      "outputs": [
        {
          "output_type": "stream",
          "name": "stdout",
          "text": [
            "Looking in indexes: https://pypi.org/simple, https://us-python.pkg.dev/colab-wheels/public/simple/\n",
            "Requirement already satisfied: lime in /usr/local/lib/python3.7/dist-packages (0.2.0.1)\n",
            "Requirement already satisfied: matplotlib in /usr/local/lib/python3.7/dist-packages (from lime) (3.2.2)\n",
            "Requirement already satisfied: scikit-learn>=0.18 in /usr/local/lib/python3.7/dist-packages (from lime) (1.0.2)\n",
            "Requirement already satisfied: tqdm in /usr/local/lib/python3.7/dist-packages (from lime) (4.64.1)\n",
            "Requirement already satisfied: numpy in /usr/local/lib/python3.7/dist-packages (from lime) (1.21.6)\n",
            "Requirement already satisfied: scipy in /usr/local/lib/python3.7/dist-packages (from lime) (1.7.3)\n",
            "Requirement already satisfied: scikit-image>=0.12 in /usr/local/lib/python3.7/dist-packages (from lime) (0.18.3)\n",
            "Requirement already satisfied: networkx>=2.0 in /usr/local/lib/python3.7/dist-packages (from scikit-image>=0.12->lime) (2.6.3)\n",
            "Requirement already satisfied: pillow!=7.1.0,!=7.1.1,>=4.3.0 in /usr/local/lib/python3.7/dist-packages (from scikit-image>=0.12->lime) (7.1.2)\n",
            "Requirement already satisfied: tifffile>=2019.7.26 in /usr/local/lib/python3.7/dist-packages (from scikit-image>=0.12->lime) (2021.11.2)\n",
            "Requirement already satisfied: imageio>=2.3.0 in /usr/local/lib/python3.7/dist-packages (from scikit-image>=0.12->lime) (2.9.0)\n",
            "Requirement already satisfied: PyWavelets>=1.1.1 in /usr/local/lib/python3.7/dist-packages (from scikit-image>=0.12->lime) (1.3.0)\n",
            "Requirement already satisfied: pyparsing!=2.0.4,!=2.1.2,!=2.1.6,>=2.0.1 in /usr/local/lib/python3.7/dist-packages (from matplotlib->lime) (3.0.9)\n",
            "Requirement already satisfied: kiwisolver>=1.0.1 in /usr/local/lib/python3.7/dist-packages (from matplotlib->lime) (1.4.4)\n",
            "Requirement already satisfied: python-dateutil>=2.1 in /usr/local/lib/python3.7/dist-packages (from matplotlib->lime) (2.8.2)\n",
            "Requirement already satisfied: cycler>=0.10 in /usr/local/lib/python3.7/dist-packages (from matplotlib->lime) (0.11.0)\n",
            "Requirement already satisfied: typing-extensions in /usr/local/lib/python3.7/dist-packages (from kiwisolver>=1.0.1->matplotlib->lime) (4.1.1)\n",
            "Requirement already satisfied: six>=1.5 in /usr/local/lib/python3.7/dist-packages (from python-dateutil>=2.1->matplotlib->lime) (1.15.0)\n",
            "Requirement already satisfied: joblib>=0.11 in /usr/local/lib/python3.7/dist-packages (from scikit-learn>=0.18->lime) (1.2.0)\n",
            "Requirement already satisfied: threadpoolctl>=2.0.0 in /usr/local/lib/python3.7/dist-packages (from scikit-learn>=0.18->lime) (3.1.0)\n"
          ]
        },
        {
          "output_type": "stream",
          "name": "stderr",
          "text": [
            "[nltk_data] Downloading package punkt to /root/nltk_data...\n",
            "[nltk_data]   Package punkt is already up-to-date!\n",
            "[nltk_data] Downloading package stopwords to /root/nltk_data...\n",
            "[nltk_data]   Package stopwords is already up-to-date!\n"
          ]
        }
      ]
    },
    {
      "cell_type": "code",
      "source": [
        "df =pd.read_csv('Tweets.csv')\n",
        "df.head()"
      ],
      "metadata": {
        "execution": {
          "iopub.status.busy": "2022-01-06T07:19:29.658775Z",
          "iopub.execute_input": "2022-01-06T07:19:29.658972Z",
          "iopub.status.idle": "2022-01-06T07:19:29.800728Z",
          "shell.execute_reply.started": "2022-01-06T07:19:29.658949Z",
          "shell.execute_reply": "2022-01-06T07:19:29.800061Z"
        },
        "trusted": true,
        "colab": {
          "base_uri": "https://localhost:8080/",
          "height": 496
        },
        "id": "cNnh-V9OEOQp",
        "outputId": "0b2fa45c-5c41-43c5-bc9a-e21c744ba68f"
      },
      "execution_count": null,
      "outputs": [
        {
          "output_type": "execute_result",
          "data": {
            "text/plain": [
              "       tweet_id airline_sentiment  airline_sentiment_confidence  \\\n",
              "0  5.703061e+17           neutral                        1.0000   \n",
              "1  5.703011e+17          positive                        0.3486   \n",
              "2  5.703011e+17           neutral                        0.6837   \n",
              "3  5.703010e+17          negative                        1.0000   \n",
              "4  5.703008e+17          negative                        1.0000   \n",
              "\n",
              "  negativereason  negativereason_confidence         airline        name  \\\n",
              "0            NaN                        NaN  Virgin America     cairdin   \n",
              "1            NaN                     0.0000  Virgin America    jnardino   \n",
              "2            NaN                        NaN  Virgin America  yvonnalynn   \n",
              "3     Bad Flight                     0.7033  Virgin America    jnardino   \n",
              "4     Can't Tell                     1.0000  Virgin America    jnardino   \n",
              "\n",
              "   retweet_count                                               text  \\\n",
              "0              0                @VirginAmerica What @dhepburn said.   \n",
              "1              0  @VirginAmerica plus you've added commercials t...   \n",
              "2              0  @VirginAmerica I didn't today... Must mean I n...   \n",
              "3              0  @VirginAmerica it's really aggressive to blast...   \n",
              "4              0  @VirginAmerica and it's a really big bad thing...   \n",
              "\n",
              "               tweet_created   latitude   longitude  \n",
              "0  2015-02-24 11:35:52 -0800  35.888455 -119.273781  \n",
              "1  2015-02-24 11:15:59 -0800  37.770971 -119.941025  \n",
              "2  2015-02-24 11:15:48 -0800  35.684863 -119.709299  \n",
              "3  2015-02-24 11:15:36 -0800  37.061159 -119.279135  \n",
              "4  2015-02-24 11:14:45 -0800  36.790587 -120.867752  "
            ],
            "text/html": [
              "\n",
              "  <div id=\"df-eb019699-4402-4ad4-ac36-656293b61c8f\">\n",
              "    <div class=\"colab-df-container\">\n",
              "      <div>\n",
              "<style scoped>\n",
              "    .dataframe tbody tr th:only-of-type {\n",
              "        vertical-align: middle;\n",
              "    }\n",
              "\n",
              "    .dataframe tbody tr th {\n",
              "        vertical-align: top;\n",
              "    }\n",
              "\n",
              "    .dataframe thead th {\n",
              "        text-align: right;\n",
              "    }\n",
              "</style>\n",
              "<table border=\"1\" class=\"dataframe\">\n",
              "  <thead>\n",
              "    <tr style=\"text-align: right;\">\n",
              "      <th></th>\n",
              "      <th>tweet_id</th>\n",
              "      <th>airline_sentiment</th>\n",
              "      <th>airline_sentiment_confidence</th>\n",
              "      <th>negativereason</th>\n",
              "      <th>negativereason_confidence</th>\n",
              "      <th>airline</th>\n",
              "      <th>name</th>\n",
              "      <th>retweet_count</th>\n",
              "      <th>text</th>\n",
              "      <th>tweet_created</th>\n",
              "      <th>latitude</th>\n",
              "      <th>longitude</th>\n",
              "    </tr>\n",
              "  </thead>\n",
              "  <tbody>\n",
              "    <tr>\n",
              "      <th>0</th>\n",
              "      <td>5.703061e+17</td>\n",
              "      <td>neutral</td>\n",
              "      <td>1.0000</td>\n",
              "      <td>NaN</td>\n",
              "      <td>NaN</td>\n",
              "      <td>Virgin America</td>\n",
              "      <td>cairdin</td>\n",
              "      <td>0</td>\n",
              "      <td>@VirginAmerica What @dhepburn said.</td>\n",
              "      <td>2015-02-24 11:35:52 -0800</td>\n",
              "      <td>35.888455</td>\n",
              "      <td>-119.273781</td>\n",
              "    </tr>\n",
              "    <tr>\n",
              "      <th>1</th>\n",
              "      <td>5.703011e+17</td>\n",
              "      <td>positive</td>\n",
              "      <td>0.3486</td>\n",
              "      <td>NaN</td>\n",
              "      <td>0.0000</td>\n",
              "      <td>Virgin America</td>\n",
              "      <td>jnardino</td>\n",
              "      <td>0</td>\n",
              "      <td>@VirginAmerica plus you've added commercials t...</td>\n",
              "      <td>2015-02-24 11:15:59 -0800</td>\n",
              "      <td>37.770971</td>\n",
              "      <td>-119.941025</td>\n",
              "    </tr>\n",
              "    <tr>\n",
              "      <th>2</th>\n",
              "      <td>5.703011e+17</td>\n",
              "      <td>neutral</td>\n",
              "      <td>0.6837</td>\n",
              "      <td>NaN</td>\n",
              "      <td>NaN</td>\n",
              "      <td>Virgin America</td>\n",
              "      <td>yvonnalynn</td>\n",
              "      <td>0</td>\n",
              "      <td>@VirginAmerica I didn't today... Must mean I n...</td>\n",
              "      <td>2015-02-24 11:15:48 -0800</td>\n",
              "      <td>35.684863</td>\n",
              "      <td>-119.709299</td>\n",
              "    </tr>\n",
              "    <tr>\n",
              "      <th>3</th>\n",
              "      <td>5.703010e+17</td>\n",
              "      <td>negative</td>\n",
              "      <td>1.0000</td>\n",
              "      <td>Bad Flight</td>\n",
              "      <td>0.7033</td>\n",
              "      <td>Virgin America</td>\n",
              "      <td>jnardino</td>\n",
              "      <td>0</td>\n",
              "      <td>@VirginAmerica it's really aggressive to blast...</td>\n",
              "      <td>2015-02-24 11:15:36 -0800</td>\n",
              "      <td>37.061159</td>\n",
              "      <td>-119.279135</td>\n",
              "    </tr>\n",
              "    <tr>\n",
              "      <th>4</th>\n",
              "      <td>5.703008e+17</td>\n",
              "      <td>negative</td>\n",
              "      <td>1.0000</td>\n",
              "      <td>Can't Tell</td>\n",
              "      <td>1.0000</td>\n",
              "      <td>Virgin America</td>\n",
              "      <td>jnardino</td>\n",
              "      <td>0</td>\n",
              "      <td>@VirginAmerica and it's a really big bad thing...</td>\n",
              "      <td>2015-02-24 11:14:45 -0800</td>\n",
              "      <td>36.790587</td>\n",
              "      <td>-120.867752</td>\n",
              "    </tr>\n",
              "  </tbody>\n",
              "</table>\n",
              "</div>\n",
              "      <button class=\"colab-df-convert\" onclick=\"convertToInteractive('df-eb019699-4402-4ad4-ac36-656293b61c8f')\"\n",
              "              title=\"Convert this dataframe to an interactive table.\"\n",
              "              style=\"display:none;\">\n",
              "        \n",
              "  <svg xmlns=\"http://www.w3.org/2000/svg\" height=\"24px\"viewBox=\"0 0 24 24\"\n",
              "       width=\"24px\">\n",
              "    <path d=\"M0 0h24v24H0V0z\" fill=\"none\"/>\n",
              "    <path d=\"M18.56 5.44l.94 2.06.94-2.06 2.06-.94-2.06-.94-.94-2.06-.94 2.06-2.06.94zm-11 1L8.5 8.5l.94-2.06 2.06-.94-2.06-.94L8.5 2.5l-.94 2.06-2.06.94zm10 10l.94 2.06.94-2.06 2.06-.94-2.06-.94-.94-2.06-.94 2.06-2.06.94z\"/><path d=\"M17.41 7.96l-1.37-1.37c-.4-.4-.92-.59-1.43-.59-.52 0-1.04.2-1.43.59L10.3 9.45l-7.72 7.72c-.78.78-.78 2.05 0 2.83L4 21.41c.39.39.9.59 1.41.59.51 0 1.02-.2 1.41-.59l7.78-7.78 2.81-2.81c.8-.78.8-2.07 0-2.86zM5.41 20L4 18.59l7.72-7.72 1.47 1.35L5.41 20z\"/>\n",
              "  </svg>\n",
              "      </button>\n",
              "      \n",
              "  <style>\n",
              "    .colab-df-container {\n",
              "      display:flex;\n",
              "      flex-wrap:wrap;\n",
              "      gap: 12px;\n",
              "    }\n",
              "\n",
              "    .colab-df-convert {\n",
              "      background-color: #E8F0FE;\n",
              "      border: none;\n",
              "      border-radius: 50%;\n",
              "      cursor: pointer;\n",
              "      display: none;\n",
              "      fill: #1967D2;\n",
              "      height: 32px;\n",
              "      padding: 0 0 0 0;\n",
              "      width: 32px;\n",
              "    }\n",
              "\n",
              "    .colab-df-convert:hover {\n",
              "      background-color: #E2EBFA;\n",
              "      box-shadow: 0px 1px 2px rgba(60, 64, 67, 0.3), 0px 1px 3px 1px rgba(60, 64, 67, 0.15);\n",
              "      fill: #174EA6;\n",
              "    }\n",
              "\n",
              "    [theme=dark] .colab-df-convert {\n",
              "      background-color: #3B4455;\n",
              "      fill: #D2E3FC;\n",
              "    }\n",
              "\n",
              "    [theme=dark] .colab-df-convert:hover {\n",
              "      background-color: #434B5C;\n",
              "      box-shadow: 0px 1px 3px 1px rgba(0, 0, 0, 0.15);\n",
              "      filter: drop-shadow(0px 1px 2px rgba(0, 0, 0, 0.3));\n",
              "      fill: #FFFFFF;\n",
              "    }\n",
              "  </style>\n",
              "\n",
              "      <script>\n",
              "        const buttonEl =\n",
              "          document.querySelector('#df-eb019699-4402-4ad4-ac36-656293b61c8f button.colab-df-convert');\n",
              "        buttonEl.style.display =\n",
              "          google.colab.kernel.accessAllowed ? 'block' : 'none';\n",
              "\n",
              "        async function convertToInteractive(key) {\n",
              "          const element = document.querySelector('#df-eb019699-4402-4ad4-ac36-656293b61c8f');\n",
              "          const dataTable =\n",
              "            await google.colab.kernel.invokeFunction('convertToInteractive',\n",
              "                                                     [key], {});\n",
              "          if (!dataTable) return;\n",
              "\n",
              "          const docLinkHtml = 'Like what you see? Visit the ' +\n",
              "            '<a target=\"_blank\" href=https://colab.research.google.com/notebooks/data_table.ipynb>data table notebook</a>'\n",
              "            + ' to learn more about interactive tables.';\n",
              "          element.innerHTML = '';\n",
              "          dataTable['output_type'] = 'display_data';\n",
              "          await google.colab.output.renderOutput(dataTable, element);\n",
              "          const docLink = document.createElement('div');\n",
              "          docLink.innerHTML = docLinkHtml;\n",
              "          element.appendChild(docLink);\n",
              "        }\n",
              "      </script>\n",
              "    </div>\n",
              "  </div>\n",
              "  "
            ]
          },
          "metadata": {},
          "execution_count": 4
        }
      ]
    },
    {
      "cell_type": "code",
      "source": [
        "# Unique values of sentiment\n",
        "df['airline_sentiment'].unique()"
      ],
      "metadata": {
        "execution": {
          "iopub.status.busy": "2022-01-06T07:19:29.801793Z",
          "iopub.execute_input": "2022-01-06T07:19:29.802425Z",
          "iopub.status.idle": "2022-01-06T07:19:29.812622Z",
          "shell.execute_reply.started": "2022-01-06T07:19:29.802388Z",
          "shell.execute_reply": "2022-01-06T07:19:29.811929Z"
        },
        "trusted": true,
        "colab": {
          "base_uri": "https://localhost:8080/"
        },
        "id": "v6s5tOgREOQq",
        "outputId": "d12f71c7-f046-400e-c6f5-63b5f62250f0"
      },
      "execution_count": null,
      "outputs": [
        {
          "output_type": "execute_result",
          "data": {
            "text/plain": [
              "array(['neutral', 'positive', 'negative'], dtype=object)"
            ]
          },
          "metadata": {},
          "execution_count": 5
        }
      ]
    },
    {
      "cell_type": "code",
      "source": [
        "# Unique values of sentiment plot\n",
        "plt.figure(figsize=(10,7))\n",
        "sns.countplot(x=\"airline_sentiment\",palette=\"Set1\" ,data=df)"
      ],
      "metadata": {
        "execution": {
          "iopub.status.busy": "2022-01-06T07:19:29.815972Z",
          "iopub.execute_input": "2022-01-06T07:19:29.816619Z",
          "iopub.status.idle": "2022-01-06T07:19:30.020444Z",
          "shell.execute_reply.started": "2022-01-06T07:19:29.816591Z",
          "shell.execute_reply": "2022-01-06T07:19:30.019659Z"
        },
        "trusted": true,
        "colab": {
          "base_uri": "https://localhost:8080/",
          "height": 461
        },
        "id": "6yv0dr_WEOQr",
        "outputId": "700e8223-1885-4338-fb3c-ef45f708e966"
      },
      "execution_count": null,
      "outputs": [
        {
          "output_type": "execute_result",
          "data": {
            "text/plain": [
              "<matplotlib.axes._subplots.AxesSubplot at 0x7fb93a7e2c90>"
            ]
          },
          "metadata": {},
          "execution_count": 6
        },
        {
          "output_type": "display_data",
          "data": {
            "text/plain": [
              "<Figure size 720x504 with 1 Axes>"
            ],
            "image/png": "[encoded data removed]"
          },
          "metadata": {
            "needs_background": "light"
          }
        }
      ]
    },
    {
      "cell_type": "markdown",
      "source": [
        "> Positive and neutral tweets are almost equal.\n",
        "\n",
        "> Negative tweets are more than double of neutral or positive sentiments."
      ],
      "metadata": {
        "id": "nQ1689aMEOQr"
      }
    },
    {
      "cell_type": "code",
      "source": [
        "# Unique values of airline\n",
        "\n",
        "plt.figure(figsize=(10,7))\n",
        "ax = sns.countplot(x=\"airline\",palette=\"Set1\", data=df)"
      ],
      "metadata": {
        "execution": {
          "iopub.status.busy": "2022-01-06T07:19:30.021605Z",
          "iopub.execute_input": "2022-01-06T07:19:30.021988Z",
          "iopub.status.idle": "2022-01-06T07:19:30.256143Z",
          "shell.execute_reply.started": "2022-01-06T07:19:30.021954Z",
          "shell.execute_reply": "2022-01-06T07:19:30.255496Z"
        },
        "trusted": true,
        "colab": {
          "base_uri": "https://localhost:8080/",
          "height": 445
        },
        "id": "UvlbUg7WEOQs",
        "outputId": "18c244e0-44cc-4882-9a7d-55c0e0324ac7"
      },
      "execution_count": null,
      "outputs": [
        {
          "output_type": "display_data",
          "data": {
            "text/plain": [
              "<Figure size 720x504 with 1 Axes>"
            ],
            "image/png": "[encoded data removed]"
          },
          "metadata": {
            "needs_background": "light"
          }
        }
      ]
    },
    {
      "cell_type": "markdown",
      "source": [
        "> United has the most number of flights.\n",
        "\n",
        "> Virgin America has the least."
      ],
      "metadata": {
        "id": "K3yyt6VdEOQt"
      }
    },
    {
      "cell_type": "markdown",
      "source": [
        "<div style=\"color:white;\n",
        "           display:fill;\n",
        "           border-radius:5px;\n",
        "           font-size:110%;\n",
        "           font-family:cursive;\n",
        "           letter-spacing:0.5px;\n",
        "           background-color:powderblue;\n",
        "           color:Black;\n",
        "           font-family:cursive\n",
        "           \">\n",
        "<h1 style=\"text-align:center;font-weight: bold\"> Utility Functions </h1>\n",
        "</div>\n"
      ],
      "metadata": {
        "id": "IXJ_-NxTEOQt"
      }
    },
    {
      "cell_type": "code",
      "source": [
        "# I am tokenizing the tweet and also taking tokens from second index onwards as initital to gives airline name and '@' and lowering thm and later making it back a sentence\n",
        "def clean_the_tweet(text):\n",
        "  tokens= nltk.word_tokenize(re.sub(\"[^a-zA-Z]\", \" \",text))\n",
        "  tokens = [token.lower() for token in tokens]\n",
        "  return ' '.join(tokens[2:])\n",
        "\n",
        "                 \n",
        "\n",
        "def text_process(msg):\n",
        "  nopunc =[char for char in msg if char not in string.punctuation]\n",
        "  nopunc=''.join(nopunc)\n",
        "  return ' '.join([word for word in nopunc.split() if word.lower() not in stopwords.words('english')])\n",
        "\n",
        "\n",
        " \n",
        "def check_scores(clf,X_train, X_test, y_train, y_test):\n",
        "\n",
        "  model=clf.fit(X_train, y_train)\n",
        "  predicted_class=model.predict(X_test)\n",
        "  predicted_class_train=model.predict(X_train)\n",
        "  test_probs = model.predict_proba(X_test)\n",
        "  test_probs = test_probs[:, 1]\n",
        "  yhat = model.predict(X_test)\n",
        "  lr_precision, lr_recall, _ = precision_recall_curve(y_test, test_probs)\n",
        "  lr_f1, lr_auc = f1_score(y_test, yhat), auc(lr_recall, lr_precision)\n",
        "\n",
        "\n",
        "  print(30*\"=\")\n",
        "  print('Test confusion matrix is: ')\n",
        "\n",
        "  cm2 = confusion_matrix(y_train, predicted_class_train)\n",
        "  plt.rcParams['figure.figsize'] = [15,8]\n",
        "  #confusion matrix to DataFrame\n",
        "  conf_matrix2 = pd.DataFrame(data = cm2,columns = ['Predicted:0','Predicted:1',], index = ['Actual:0','Actual:1',])\n",
        "  #plotting the confusion matrix\n",
        "  sns.heatmap(conf_matrix2, annot = True, fmt = 'd', cmap = 'Paired', cbar = False,linewidths = 0.1, annot_kws = {'size':25})\n",
        "  plt.xticks(fontsize = 20)\n",
        "  plt.yticks(fontsize = 20)\n",
        "  plt.show()\n",
        "\n",
        "  print(30*\"=\")\n",
        "  print(classification_report(y_test,predicted_class)) \n",
        "  print(30*\"=\")\n",
        "  train_accuracy = accuracy_score(y_train,predicted_class_train)\n",
        "  test_accuracy = accuracy_score(y_test,predicted_class)\n",
        "\n",
        "  print(\"Train accuracy score: \", train_accuracy)\n",
        "  print(\"Test accuracy score: \",test_accuracy )\n",
        "  print(30*\"=\")\n",
        "\n",
        "  return train_accuracy, test_accuracy, s_train_auc, s_test_auc\n",
        "\n",
        "\n",
        "def grid_search(model, parameters, X_train, Y_train):\n",
        "  #Doing a grid\n",
        "  grid = GridSearchCV(estimator=model,\n",
        "                       param_grid = parameters,\n",
        "                       cv = 2, verbose=2, scoring='roc_auc')\n",
        "  #Fitting the grid \n",
        "  grid.fit(X_train,Y_train)\n",
        "  print()\n",
        "  print()\n",
        "  # Best model found using grid search\n",
        "  optimal_model = grid.best_estimator_\n",
        "  print('Best parameters are: ')\n",
        "  print( grid.best_params_)\n",
        "\n",
        "  return optimal_model\n",
        "  \n"
      ],
      "metadata": {
        "execution": {
          "iopub.status.busy": "2022-01-06T07:19:30.257517Z",
          "iopub.execute_input": "2022-01-06T07:19:30.257964Z",
          "iopub.status.idle": "2022-01-06T07:19:30.274647Z",
          "shell.execute_reply.started": "2022-01-06T07:19:30.257928Z",
          "shell.execute_reply": "2022-01-06T07:19:30.273912Z"
        },
        "trusted": true,
        "id": "MvTQwZ-0EOQt"
      },
      "execution_count": null,
      "outputs": []
    },
    {
      "cell_type": "markdown",
      "source": [
        "<div style=\"color:white;\n",
        "           display:fill;\n",
        "           border-radius:5px;\n",
        "           font-size:110%;\n",
        "           font-family:cursive;\n",
        "           letter-spacing:0.5px;\n",
        "           background-color:powderblue;\n",
        "           color:Black;\n",
        "           font-family:cursive\n",
        "           \">\n",
        "<h1 style=\"text-align:center;font-weight: bold\"> Text Preparation </h1>\n",
        "</div>\n"
      ],
      "metadata": {
        "id": "j40jcnO_EOQu"
      }
    },
    {
      "cell_type": "code",
      "source": [
        "# removing neutral tweets\n",
        "\n",
        "df = df[df['airline_sentiment']!='neutral']\n",
        "df['cleaned_tweet'] = df['text'].apply(clean_the_tweet)\n",
        "\n",
        "df.head()\n",
        "df['airline_sentiment'] = df['airline_sentiment'].apply(lambda x: 1 if x =='positive' else 0)\n",
        "df.head()"
      ],
      "metadata": {
        "execution": {
          "iopub.status.busy": "2022-01-06T07:19:30.275754Z",
          "iopub.execute_input": "2022-01-06T07:19:30.276071Z",
          "iopub.status.idle": "2022-01-06T07:19:32.796339Z",
          "shell.execute_reply.started": "2022-01-06T07:19:30.276036Z",
          "shell.execute_reply": "2022-01-06T07:19:32.795646Z"
        },
        "trusted": true,
        "colab": {
          "base_uri": "https://localhost:8080/",
          "height": 513
        },
        "id": "i4MS41H0EOQu",
        "outputId": "3e99afc6-df5c-496e-f998-5c345223ed4b"
      },
      "execution_count": null,
      "outputs": [
        {
          "output_type": "execute_result",
          "data": {
            "text/plain": [
              "       tweet_id  airline_sentiment  airline_sentiment_confidence  \\\n",
              "1  5.703011e+17                  1                        0.3486   \n",
              "3  5.703010e+17                  0                        1.0000   \n",
              "4  5.703008e+17                  0                        1.0000   \n",
              "5  5.703008e+17                  0                        1.0000   \n",
              "6  5.703006e+17                  1                        0.6745   \n",
              "\n",
              "  negativereason  negativereason_confidence         airline        name  \\\n",
              "1            NaN                     0.0000  Virgin America    jnardino   \n",
              "3     Bad Flight                     0.7033  Virgin America    jnardino   \n",
              "4     Can't Tell                     1.0000  Virgin America    jnardino   \n",
              "5     Can't Tell                     0.6842  Virgin America    jnardino   \n",
              "6            NaN                     0.0000  Virgin America  cjmcginnis   \n",
              "\n",
              "   retweet_count                                               text  \\\n",
              "1              0  @VirginAmerica plus you've added commercials t...   \n",
              "3              0  @VirginAmerica it's really aggressive to blast...   \n",
              "4              0  @VirginAmerica and it's a really big bad thing...   \n",
              "5              0  @VirginAmerica seriously would pay $30 a fligh...   \n",
              "6              0  @VirginAmerica yes, nearly every time I fly VX...   \n",
              "\n",
              "               tweet_created   latitude   longitude  \\\n",
              "1  2015-02-24 11:15:59 -0800  37.770971 -119.941025   \n",
              "3  2015-02-24 11:15:36 -0800  37.061159 -119.279135   \n",
              "4  2015-02-24 11:14:45 -0800  36.790587 -120.867752   \n",
              "5  2015-02-24 11:14:33 -0800  36.226653 -119.290923   \n",
              "6  2015-02-24 11:13:57 -0800  33.778164 -119.565305   \n",
              "\n",
              "                                       cleaned_tweet  \n",
              "1   you ve added commercials to the experience tacky  \n",
              "3  s really aggressive to blast obnoxious enterta...  \n",
              "4               it s a really big bad thing about it  \n",
              "5  would pay a flight for seats that didn t have ...  \n",
              "6  nearly every time i fly vx this ear worm won t...  "
            ],
            "text/html": [
              "\n",
              "  <div id=\"df-adbd1dab-0d1e-4522-a175-4423c4f14fe2\">\n",
              "    <div class=\"colab-df-container\">\n",
              "      <div>\n",
              "<style scoped>\n",
              "    .dataframe tbody tr th:only-of-type {\n",
              "        vertical-align: middle;\n",
              "    }\n",
              "\n",
              "    .dataframe tbody tr th {\n",
              "        vertical-align: top;\n",
              "    }\n",
              "\n",
              "    .dataframe thead th {\n",
              "        text-align: right;\n",
              "    }\n",
              "</style>\n",
              "<table border=\"1\" class=\"dataframe\">\n",
              "  <thead>\n",
              "    <tr style=\"text-align: right;\">\n",
              "      <th></th>\n",
              "      <th>tweet_id</th>\n",
              "      <th>airline_sentiment</th>\n",
              "      <th>airline_sentiment_confidence</th>\n",
              "      <th>negativereason</th>\n",
              "      <th>negativereason_confidence</th>\n",
              "      <th>airline</th>\n",
              "      <th>name</th>\n",
              "      <th>retweet_count</th>\n",
              "      <th>text</th>\n",
              "      <th>tweet_created</th>\n",
              "      <th>latitude</th>\n",
              "      <th>longitude</th>\n",
              "      <th>cleaned_tweet</th>\n",
              "    </tr>\n",
              "  </thead>\n",
              "  <tbody>\n",
              "    <tr>\n",
              "      <th>1</th>\n",
              "      <td>5.703011e+17</td>\n",
              "      <td>1</td>\n",
              "      <td>0.3486</td>\n",
              "      <td>NaN</td>\n",
              "      <td>0.0000</td>\n",
              "      <td>Virgin America</td>\n",
              "      <td>jnardino</td>\n",
              "      <td>0</td>\n",
              "      <td>@VirginAmerica plus you've added commercials t...</td>\n",
              "      <td>2015-02-24 11:15:59 -0800</td>\n",
              "      <td>37.770971</td>\n",
              "      <td>-119.941025</td>\n",
              "      <td>you ve added commercials to the experience tacky</td>\n",
              "    </tr>\n",
              "    <tr>\n",
              "      <th>3</th>\n",
              "      <td>5.703010e+17</td>\n",
              "      <td>0</td>\n",
              "      <td>1.0000</td>\n",
              "      <td>Bad Flight</td>\n",
              "      <td>0.7033</td>\n",
              "      <td>Virgin America</td>\n",
              "      <td>jnardino</td>\n",
              "      <td>0</td>\n",
              "      <td>@VirginAmerica it's really aggressive to blast...</td>\n",
              "      <td>2015-02-24 11:15:36 -0800</td>\n",
              "      <td>37.061159</td>\n",
              "      <td>-119.279135</td>\n",
              "      <td>s really aggressive to blast obnoxious enterta...</td>\n",
              "    </tr>\n",
              "    <tr>\n",
              "      <th>4</th>\n",
              "      <td>5.703008e+17</td>\n",
              "      <td>0</td>\n",
              "      <td>1.0000</td>\n",
              "      <td>Can't Tell</td>\n",
              "      <td>1.0000</td>\n",
              "      <td>Virgin America</td>\n",
              "      <td>jnardino</td>\n",
              "      <td>0</td>\n",
              "      <td>@VirginAmerica and it's a really big bad thing...</td>\n",
              "      <td>2015-02-24 11:14:45 -0800</td>\n",
              "      <td>36.790587</td>\n",
              "      <td>-120.867752</td>\n",
              "      <td>it s a really big bad thing about it</td>\n",
              "    </tr>\n",
              "    <tr>\n",
              "      <th>5</th>\n",
              "      <td>5.703008e+17</td>\n",
              "      <td>0</td>\n",
              "      <td>1.0000</td>\n",
              "      <td>Can't Tell</td>\n",
              "      <td>0.6842</td>\n",
              "      <td>Virgin America</td>\n",
              "      <td>jnardino</td>\n",
              "      <td>0</td>\n",
              "      <td>@VirginAmerica seriously would pay $30 a fligh...</td>\n",
              "      <td>2015-02-24 11:14:33 -0800</td>\n",
              "      <td>36.226653</td>\n",
              "      <td>-119.290923</td>\n",
              "      <td>would pay a flight for seats that didn t have ...</td>\n",
              "    </tr>\n",
              "    <tr>\n",
              "      <th>6</th>\n",
              "      <td>5.703006e+17</td>\n",
              "      <td>1</td>\n",
              "      <td>0.6745</td>\n",
              "      <td>NaN</td>\n",
              "      <td>0.0000</td>\n",
              "      <td>Virgin America</td>\n",
              "      <td>cjmcginnis</td>\n",
              "      <td>0</td>\n",
              "      <td>@VirginAmerica yes, nearly every time I fly VX...</td>\n",
              "      <td>2015-02-24 11:13:57 -0800</td>\n",
              "      <td>33.778164</td>\n",
              "      <td>-119.565305</td>\n",
              "      <td>nearly every time i fly vx this ear worm won t...</td>\n",
              "    </tr>\n",
              "  </tbody>\n",
              "</table>\n",
              "</div>\n",
              "      <button class=\"colab-df-convert\" onclick=\"convertToInteractive('df-adbd1dab-0d1e-4522-a175-4423c4f14fe2')\"\n",
              "              title=\"Convert this dataframe to an interactive table.\"\n",
              "              style=\"display:none;\">\n",
              "        \n",
              "  <svg xmlns=\"http://www.w3.org/2000/svg\" height=\"24px\"viewBox=\"0 0 24 24\"\n",
              "       width=\"24px\">\n",
              "    <path d=\"M0 0h24v24H0V0z\" fill=\"none\"/>\n",
              "    <path d=\"M18.56 5.44l.94 2.06.94-2.06 2.06-.94-2.06-.94-.94-2.06-.94 2.06-2.06.94zm-11 1L8.5 8.5l.94-2.06 2.06-.94-2.06-.94L8.5 2.5l-.94 2.06-2.06.94zm10 10l.94 2.06.94-2.06 2.06-.94-2.06-.94-.94-2.06-.94 2.06-2.06.94z\"/><path d=\"M17.41 7.96l-1.37-1.37c-.4-.4-.92-.59-1.43-.59-.52 0-1.04.2-1.43.59L10.3 9.45l-7.72 7.72c-.78.78-.78 2.05 0 2.83L4 21.41c.39.39.9.59 1.41.59.51 0 1.02-.2 1.41-.59l7.78-7.78 2.81-2.81c.8-.78.8-2.07 0-2.86zM5.41 20L4 18.59l7.72-7.72 1.47 1.35L5.41 20z\"/>\n",
              "  </svg>\n",
              "      </button>\n",
              "      \n",
              "  <style>\n",
              "    .colab-df-container {\n",
              "      display:flex;\n",
              "      flex-wrap:wrap;\n",
              "      gap: 12px;\n",
              "    }\n",
              "\n",
              "    .colab-df-convert {\n",
              "      background-color: #E8F0FE;\n",
              "      border: none;\n",
              "      border-radius: 50%;\n",
              "      cursor: pointer;\n",
              "      display: none;\n",
              "      fill: #1967D2;\n",
              "      height: 32px;\n",
              "      padding: 0 0 0 0;\n",
              "      width: 32px;\n",
              "    }\n",
              "\n",
              "    .colab-df-convert:hover {\n",
              "      background-color: #E2EBFA;\n",
              "      box-shadow: 0px 1px 2px rgba(60, 64, 67, 0.3), 0px 1px 3px 1px rgba(60, 64, 67, 0.15);\n",
              "      fill: #174EA6;\n",
              "    }\n",
              "\n",
              "    [theme=dark] .colab-df-convert {\n",
              "      background-color: #3B4455;\n",
              "      fill: #D2E3FC;\n",
              "    }\n",
              "\n",
              "    [theme=dark] .colab-df-convert:hover {\n",
              "      background-color: #434B5C;\n",
              "      box-shadow: 0px 1px 3px 1px rgba(0, 0, 0, 0.15);\n",
              "      filter: drop-shadow(0px 1px 2px rgba(0, 0, 0, 0.3));\n",
              "      fill: #FFFFFF;\n",
              "    }\n",
              "  </style>\n",
              "\n",
              "      <script>\n",
              "        const buttonEl =\n",
              "          document.querySelector('#df-adbd1dab-0d1e-4522-a175-4423c4f14fe2 button.colab-df-convert');\n",
              "        buttonEl.style.display =\n",
              "          google.colab.kernel.accessAllowed ? 'block' : 'none';\n",
              "\n",
              "        async function convertToInteractive(key) {\n",
              "          const element = document.querySelector('#df-adbd1dab-0d1e-4522-a175-4423c4f14fe2');\n",
              "          const dataTable =\n",
              "            await google.colab.kernel.invokeFunction('convertToInteractive',\n",
              "                                                     [key], {});\n",
              "          if (!dataTable) return;\n",
              "\n",
              "          const docLinkHtml = 'Like what you see? Visit the ' +\n",
              "            '<a target=\"_blank\" href=https://colab.research.google.com/notebooks/data_table.ipynb>data table notebook</a>'\n",
              "            + ' to learn more about interactive tables.';\n",
              "          element.innerHTML = '';\n",
              "          dataTable['output_type'] = 'display_data';\n",
              "          await google.colab.output.renderOutput(dataTable, element);\n",
              "          const docLink = document.createElement('div');\n",
              "          docLink.innerHTML = docLinkHtml;\n",
              "          element.appendChild(docLink);\n",
              "        }\n",
              "      </script>\n",
              "    </div>\n",
              "  </div>\n",
              "  "
            ]
          },
          "metadata": {},
          "execution_count": 9
        }
      ]
    },
    {
      "cell_type": "code",
      "source": [
        "# Cleaning the tweets, removing punctuation marks\n",
        "df['cleaned_tweet'] = df['cleaned_tweet'].apply(text_process)\n",
        "df.reset_index(drop=True, inplace = True)\n",
        "df.head()"
      ],
      "metadata": {
        "execution": {
          "iopub.status.busy": "2022-01-06T07:19:32.797466Z",
          "iopub.execute_input": "2022-01-06T07:19:32.798315Z",
          "iopub.status.idle": "2022-01-06T07:19:55.616686Z",
          "shell.execute_reply.started": "2022-01-06T07:19:32.798278Z",
          "shell.execute_reply": "2022-01-06T07:19:55.616021Z"
        },
        "trusted": true,
        "colab": {
          "base_uri": "https://localhost:8080/",
          "height": 513
        },
        "id": "uPbQ-A8CEOQv",
        "outputId": "074f512f-335b-45ab-d769-ead9636f96f3"
      },
      "execution_count": null,
      "outputs": [
        {
          "output_type": "execute_result",
          "data": {
            "text/plain": [
              "       tweet_id  airline_sentiment  airline_sentiment_confidence  \\\n",
              "0  5.703011e+17                  1                        0.3486   \n",
              "1  5.703010e+17                  0                        1.0000   \n",
              "2  5.703008e+17                  0                        1.0000   \n",
              "3  5.703008e+17                  0                        1.0000   \n",
              "4  5.703006e+17                  1                        0.6745   \n",
              "\n",
              "  negativereason  negativereason_confidence         airline        name  \\\n",
              "0            NaN                     0.0000  Virgin America    jnardino   \n",
              "1     Bad Flight                     0.7033  Virgin America    jnardino   \n",
              "2     Can't Tell                     1.0000  Virgin America    jnardino   \n",
              "3     Can't Tell                     0.6842  Virgin America    jnardino   \n",
              "4            NaN                     0.0000  Virgin America  cjmcginnis   \n",
              "\n",
              "   retweet_count                                               text  \\\n",
              "0              0  @VirginAmerica plus you've added commercials t...   \n",
              "1              0  @VirginAmerica it's really aggressive to blast...   \n",
              "2              0  @VirginAmerica and it's a really big bad thing...   \n",
              "3              0  @VirginAmerica seriously would pay $30 a fligh...   \n",
              "4              0  @VirginAmerica yes, nearly every time I fly VX...   \n",
              "\n",
              "               tweet_created   latitude   longitude  \\\n",
              "0  2015-02-24 11:15:59 -0800  37.770971 -119.941025   \n",
              "1  2015-02-24 11:15:36 -0800  37.061159 -119.279135   \n",
              "2  2015-02-24 11:14:45 -0800  36.790587 -120.867752   \n",
              "3  2015-02-24 11:14:33 -0800  36.226653 -119.290923   \n",
              "4  2015-02-24 11:13:57 -0800  33.778164 -119.565305   \n",
              "\n",
              "                                       cleaned_tweet  \n",
              "0                 added commercials experience tacky  \n",
              "1  really aggressive blast obnoxious entertainmen...  \n",
              "2                               really big bad thing  \n",
              "3  would pay flight seats playing really bad thin...  \n",
              "4          nearly every time fly vx ear worm go away  "
            ],
            "text/html": [
              "\n",
              "  <div id=\"df-87812a9a-03fa-4429-a196-e80cac2c49c8\">\n",
              "    <div class=\"colab-df-container\">\n",
              "      <div>\n",
              "<style scoped>\n",
              "    .dataframe tbody tr th:only-of-type {\n",
              "        vertical-align: middle;\n",
              "    }\n",
              "\n",
              "    .dataframe tbody tr th {\n",
              "        vertical-align: top;\n",
              "    }\n",
              "\n",
              "    .dataframe thead th {\n",
              "        text-align: right;\n",
              "    }\n",
              "</style>\n",
              "<table border=\"1\" class=\"dataframe\">\n",
              "  <thead>\n",
              "    <tr style=\"text-align: right;\">\n",
              "      <th></th>\n",
              "      <th>tweet_id</th>\n",
              "      <th>airline_sentiment</th>\n",
              "      <th>airline_sentiment_confidence</th>\n",
              "      <th>negativereason</th>\n",
              "      <th>negativereason_confidence</th>\n",
              "      <th>airline</th>\n",
              "      <th>name</th>\n",
              "      <th>retweet_count</th>\n",
              "      <th>text</th>\n",
              "      <th>tweet_created</th>\n",
              "      <th>latitude</th>\n",
              "      <th>longitude</th>\n",
              "      <th>cleaned_tweet</th>\n",
              "    </tr>\n",
              "  </thead>\n",
              "  <tbody>\n",
              "    <tr>\n",
              "      <th>0</th>\n",
              "      <td>5.703011e+17</td>\n",
              "      <td>1</td>\n",
              "      <td>0.3486</td>\n",
              "      <td>NaN</td>\n",
              "      <td>0.0000</td>\n",
              "      <td>Virgin America</td>\n",
              "      <td>jnardino</td>\n",
              "      <td>0</td>\n",
              "      <td>@VirginAmerica plus you've added commercials t...</td>\n",
              "      <td>2015-02-24 11:15:59 -0800</td>\n",
              "      <td>37.770971</td>\n",
              "      <td>-119.941025</td>\n",
              "      <td>added commercials experience tacky</td>\n",
              "    </tr>\n",
              "    <tr>\n",
              "      <th>1</th>\n",
              "      <td>5.703010e+17</td>\n",
              "      <td>0</td>\n",
              "      <td>1.0000</td>\n",
              "      <td>Bad Flight</td>\n",
              "      <td>0.7033</td>\n",
              "      <td>Virgin America</td>\n",
              "      <td>jnardino</td>\n",
              "      <td>0</td>\n",
              "      <td>@VirginAmerica it's really aggressive to blast...</td>\n",
              "      <td>2015-02-24 11:15:36 -0800</td>\n",
              "      <td>37.061159</td>\n",
              "      <td>-119.279135</td>\n",
              "      <td>really aggressive blast obnoxious entertainmen...</td>\n",
              "    </tr>\n",
              "    <tr>\n",
              "      <th>2</th>\n",
              "      <td>5.703008e+17</td>\n",
              "      <td>0</td>\n",
              "      <td>1.0000</td>\n",
              "      <td>Can't Tell</td>\n",
              "      <td>1.0000</td>\n",
              "      <td>Virgin America</td>\n",
              "      <td>jnardino</td>\n",
              "      <td>0</td>\n",
              "      <td>@VirginAmerica and it's a really big bad thing...</td>\n",
              "      <td>2015-02-24 11:14:45 -0800</td>\n",
              "      <td>36.790587</td>\n",
              "      <td>-120.867752</td>\n",
              "      <td>really big bad thing</td>\n",
              "    </tr>\n",
              "    <tr>\n",
              "      <th>3</th>\n",
              "      <td>5.703008e+17</td>\n",
              "      <td>0</td>\n",
              "      <td>1.0000</td>\n",
              "      <td>Can't Tell</td>\n",
              "      <td>0.6842</td>\n",
              "      <td>Virgin America</td>\n",
              "      <td>jnardino</td>\n",
              "      <td>0</td>\n",
              "      <td>@VirginAmerica seriously would pay $30 a fligh...</td>\n",
              "      <td>2015-02-24 11:14:33 -0800</td>\n",
              "      <td>36.226653</td>\n",
              "      <td>-119.290923</td>\n",
              "      <td>would pay flight seats playing really bad thin...</td>\n",
              "    </tr>\n",
              "    <tr>\n",
              "      <th>4</th>\n",
              "      <td>5.703006e+17</td>\n",
              "      <td>1</td>\n",
              "      <td>0.6745</td>\n",
              "      <td>NaN</td>\n",
              "      <td>0.0000</td>\n",
              "      <td>Virgin America</td>\n",
              "      <td>cjmcginnis</td>\n",
              "      <td>0</td>\n",
              "      <td>@VirginAmerica yes, nearly every time I fly VX...</td>\n",
              "      <td>2015-02-24 11:13:57 -0800</td>\n",
              "      <td>33.778164</td>\n",
              "      <td>-119.565305</td>\n",
              "      <td>nearly every time fly vx ear worm go away</td>\n",
              "    </tr>\n",
              "  </tbody>\n",
              "</table>\n",
              "</div>\n",
              "      <button class=\"colab-df-convert\" onclick=\"convertToInteractive('df-87812a9a-03fa-4429-a196-e80cac2c49c8')\"\n",
              "              title=\"Convert this dataframe to an interactive table.\"\n",
              "              style=\"display:none;\">\n",
              "        \n",
              "  <svg xmlns=\"http://www.w3.org/2000/svg\" height=\"24px\"viewBox=\"0 0 24 24\"\n",
              "       width=\"24px\">\n",
              "    <path d=\"M0 0h24v24H0V0z\" fill=\"none\"/>\n",
              "    <path d=\"M18.56 5.44l.94 2.06.94-2.06 2.06-.94-2.06-.94-.94-2.06-.94 2.06-2.06.94zm-11 1L8.5 8.5l.94-2.06 2.06-.94-2.06-.94L8.5 2.5l-.94 2.06-2.06.94zm10 10l.94 2.06.94-2.06 2.06-.94-2.06-.94-.94-2.06-.94 2.06-2.06.94z\"/><path d=\"M17.41 7.96l-1.37-1.37c-.4-.4-.92-.59-1.43-.59-.52 0-1.04.2-1.43.59L10.3 9.45l-7.72 7.72c-.78.78-.78 2.05 0 2.83L4 21.41c.39.39.9.59 1.41.59.51 0 1.02-.2 1.41-.59l7.78-7.78 2.81-2.81c.8-.78.8-2.07 0-2.86zM5.41 20L4 18.59l7.72-7.72 1.47 1.35L5.41 20z\"/>\n",
              "  </svg>\n",
              "      </button>\n",
              "      \n",
              "  <style>\n",
              "    .colab-df-container {\n",
              "      display:flex;\n",
              "      flex-wrap:wrap;\n",
              "      gap: 12px;\n",
              "    }\n",
              "\n",
              "    .colab-df-convert {\n",
              "      background-color: #E8F0FE;\n",
              "      border: none;\n",
              "      border-radius: 50%;\n",
              "      cursor: pointer;\n",
              "      display: none;\n",
              "      fill: #1967D2;\n",
              "      height: 32px;\n",
              "      padding: 0 0 0 0;\n",
              "      width: 32px;\n",
              "    }\n",
              "\n",
              "    .colab-df-convert:hover {\n",
              "      background-color: #E2EBFA;\n",
              "      box-shadow: 0px 1px 2px rgba(60, 64, 67, 0.3), 0px 1px 3px 1px rgba(60, 64, 67, 0.15);\n",
              "      fill: #174EA6;\n",
              "    }\n",
              "\n",
              "    [theme=dark] .colab-df-convert {\n",
              "      background-color: #3B4455;\n",
              "      fill: #D2E3FC;\n",
              "    }\n",
              "\n",
              "    [theme=dark] .colab-df-convert:hover {\n",
              "      background-color: #434B5C;\n",
              "      box-shadow: 0px 1px 3px 1px rgba(0, 0, 0, 0.15);\n",
              "      filter: drop-shadow(0px 1px 2px rgba(0, 0, 0, 0.3));\n",
              "      fill: #FFFFFF;\n",
              "    }\n",
              "  </style>\n",
              "\n",
              "      <script>\n",
              "        const buttonEl =\n",
              "          document.querySelector('#df-87812a9a-03fa-4429-a196-e80cac2c49c8 button.colab-df-convert');\n",
              "        buttonEl.style.display =\n",
              "          google.colab.kernel.accessAllowed ? 'block' : 'none';\n",
              "\n",
              "        async function convertToInteractive(key) {\n",
              "          const element = document.querySelector('#df-87812a9a-03fa-4429-a196-e80cac2c49c8');\n",
              "          const dataTable =\n",
              "            await google.colab.kernel.invokeFunction('convertToInteractive',\n",
              "                                                     [key], {});\n",
              "          if (!dataTable) return;\n",
              "\n",
              "          const docLinkHtml = 'Like what you see? Visit the ' +\n",
              "            '<a target=\"_blank\" href=https://colab.research.google.com/notebooks/data_table.ipynb>data table notebook</a>'\n",
              "            + ' to learn more about interactive tables.';\n",
              "          element.innerHTML = '';\n",
              "          dataTable['output_type'] = 'display_data';\n",
              "          await google.colab.output.renderOutput(dataTable, element);\n",
              "          const docLink = document.createElement('div');\n",
              "          docLink.innerHTML = docLinkHtml;\n",
              "          element.appendChild(docLink);\n",
              "        }\n",
              "      </script>\n",
              "    </div>\n",
              "  </div>\n",
              "  "
            ]
          },
          "metadata": {},
          "execution_count": 10
        }
      ]
    },
    {
      "cell_type": "code",
      "source": [
        "df['airline_sentiment'].unique()"
      ],
      "metadata": {
        "execution": {
          "iopub.status.busy": "2022-01-06T07:19:55.618017Z",
          "iopub.execute_input": "2022-01-06T07:19:55.618486Z",
          "iopub.status.idle": "2022-01-06T07:19:55.625580Z",
          "shell.execute_reply.started": "2022-01-06T07:19:55.618450Z",
          "shell.execute_reply": "2022-01-06T07:19:55.624831Z"
        },
        "trusted": true,
        "colab": {
          "base_uri": "https://localhost:8080/"
        },
        "id": "yXfQSzY1EOQv",
        "outputId": "f4c8140e-7692-44ac-cdb8-566be350ea4a"
      },
      "execution_count": null,
      "outputs": [
        {
          "output_type": "execute_result",
          "data": {
            "text/plain": [
              "array([1, 0])"
            ]
          },
          "metadata": {},
          "execution_count": 11
        }
      ]
    },
    {
      "cell_type": "markdown",
      "source": [
        "<div style=\"color:white;\n",
        "           display:fill;\n",
        "           border-radius:5px;\n",
        "           font-size:110%;\n",
        "           font-family:cursive;\n",
        "           letter-spacing:0.5px;\n",
        "           background-color:powderblue;\n",
        "           color:Black;\n",
        "           font-family:cursive\n",
        "           \">\n",
        "<h1 style=\"text-align:center;font-weight: bold\"> Base SVM model with TF-IDF </h1>\n",
        "</div>\n"
      ],
      "metadata": {
        "id": "HzsrpEkEEOQv"
      }
    },
    {
      "cell_type": "code",
      "source": [
        "# Creating object of TF-IDF vectorizer\n",
        "vectorizer = TfidfVectorizer(use_idf=True, lowercase=True)\n",
        "X_tff_idf= vectorizer.fit(df.cleaned_tweet)\n",
        "X_tf_idf=vectorizer.transform(df.cleaned_tweet)\n",
        "x_train, x_test, y_train, y_test = train_test_split(X_tf_idf, df['airline_sentiment'], random_state=42)\n"
      ],
      "metadata": {
        "execution": {
          "iopub.status.busy": "2022-01-06T07:19:55.629290Z",
          "iopub.execute_input": "2022-01-06T07:19:55.629518Z",
          "iopub.status.idle": "2022-01-06T07:19:55.815056Z",
          "shell.execute_reply.started": "2022-01-06T07:19:55.629494Z",
          "shell.execute_reply": "2022-01-06T07:19:55.814410Z"
        },
        "trusted": true,
        "id": "Q2RZwlcLEOQw"
      },
      "execution_count": null,
      "outputs": []
    },
    {
      "cell_type": "code",
      "source": [
        "pickle.dump(X_tff_idf, open(\"vectorizer.pickle\", \"wb\")) "
      ],
      "metadata": {
        "id": "K9ReNJl2Fp1O"
      },
      "execution_count": null,
      "outputs": []
    },
    {
      "cell_type": "code",
      "source": [
        "SVM = svm.SVC(probability=True)\n",
        "s_train_accuracy, s_test_accuracy, s_train_auc, s_test_auc = check_scores(SVM,x_train, x_test, y_train, y_test)"
      ],
      "metadata": {
        "execution": {
          "iopub.status.busy": "2022-01-06T07:19:55.816356Z",
          "iopub.execute_input": "2022-01-06T07:19:55.816616Z",
          "iopub.status.idle": "2022-01-06T07:20:38.253946Z",
          "shell.execute_reply.started": "2022-01-06T07:19:55.816584Z",
          "shell.execute_reply": "2022-01-06T07:20:38.253164Z"
        },
        "trusted": true,
        "colab": {
          "base_uri": "https://localhost:8080/",
          "height": 784
        },
        "id": "umo-27ogEOQx",
        "outputId": "0646f9ab-c538-48d8-dd9a-09f6f273b14b"
      },
      "execution_count": null,
      "outputs": [
        {
          "output_type": "stream",
          "name": "stdout",
          "text": [
            "==============================\n",
            "Test confusion matrix is: \n"
          ]
        },
        {
          "output_type": "display_data",
          "data": {
            "text/plain": [
              "<Figure size 1080x576 with 1 Axes>"
            ],
            "image/png": "[encoded data removed]"
          },
          "metadata": {
            "needs_background": "light"
          }
        },
        {
          "output_type": "stream",
          "name": "stdout",
          "text": [
            "==============================\n",
            "              precision    recall  f1-score   support\n",
            "\n",
            "           0       0.89      0.99      0.93      2323\n",
            "           1       0.89      0.47      0.62       563\n",
            "\n",
            "    accuracy                           0.89      2886\n",
            "   macro avg       0.89      0.73      0.78      2886\n",
            "weighted avg       0.89      0.89      0.87      2886\n",
            "\n",
            "==============================\n",
            "Train accuracy score:  0.9789716926632005\n",
            "Test accuracy score:  0.8863478863478863\n",
            "==============================\n"
          ]
        }
      ]
    },
    {
      "cell_type": "markdown",
      "source": [
        "<div style=\"color:white;\n",
        "           display:fill;\n",
        "           border-radius:5px;\n",
        "           font-size:110%;\n",
        "           font-family:cursive;\n",
        "           letter-spacing:0.5px;\n",
        "           background-color:powderblue;\n",
        "           color:Black;\n",
        "           font-family:cursive\n",
        "           \">\n",
        "<h1 style=\"text-align:center;font-weight: bold\"> After optimizing the hyperparameters with TF-IDF </h1>\n",
        "</div>\n"
      ],
      "metadata": {
        "id": "x0m04AmdEOQx"
      }
    },
    {
      "cell_type": "code",
      "source": [
        "# Tuning the hyperparameters\n",
        "parameters ={\n",
        "    \"C\":[0.1,1,10],\n",
        "    \"kernel\":['linear', 'rbf', 'sigmoid'],\n",
        "    \"gamma\":['scale', 'auto']}\n",
        "\n",
        "svm_optimal = grid_search(svm.SVC(probability=True), parameters,x_train, y_train)"
      ],
      "metadata": {
        "execution": {
          "iopub.status.busy": "2022-01-06T07:20:38.255355Z",
          "iopub.execute_input": "2022-01-06T07:20:38.255821Z",
          "iopub.status.idle": "2022-01-06T07:24:43.964681Z",
          "shell.execute_reply.started": "2022-01-06T07:20:38.255786Z",
          "shell.execute_reply": "2022-01-06T07:24:43.963913Z"
        },
        "trusted": true,
        "colab": {
          "base_uri": "https://localhost:8080/"
        },
        "id": "EeCV2-BMEOQx",
        "outputId": "f4914dd3-44b1-400a-f766-8a7ce426f7bb"
      },
      "execution_count": null,
      "outputs": [
        {
          "output_type": "stream",
          "name": "stdout",
          "text": [
            "Fitting 2 folds for each of 18 candidates, totalling 36 fits\n",
            "[CV] END ..................C=0.1, gamma=scale, kernel=linear; total time=   7.0s\n",
            "[CV] END ..................C=0.1, gamma=scale, kernel=linear; total time=   5.1s\n",
            "[CV] END .....................C=0.1, gamma=scale, kernel=rbf; total time=   8.7s\n",
            "[CV] END .....................C=0.1, gamma=scale, kernel=rbf; total time=   9.8s\n",
            "[CV] END .................C=0.1, gamma=scale, kernel=sigmoid; total time=   5.1s\n",
            "[CV] END .................C=0.1, gamma=scale, kernel=sigmoid; total time=   4.9s\n",
            "[CV] END ...................C=0.1, gamma=auto, kernel=linear; total time=   5.1s\n",
            "[CV] END ...................C=0.1, gamma=auto, kernel=linear; total time=   4.9s\n",
            "[CV] END ......................C=0.1, gamma=auto, kernel=rbf; total time=   5.4s\n",
            "[CV] END ......................C=0.1, gamma=auto, kernel=rbf; total time=   4.3s\n",
            "[CV] END ..................C=0.1, gamma=auto, kernel=sigmoid; total time=   3.7s\n",
            "[CV] END ..................C=0.1, gamma=auto, kernel=sigmoid; total time=   3.7s\n",
            "[CV] END ....................C=1, gamma=scale, kernel=linear; total time=   5.6s\n",
            "[CV] END ....................C=1, gamma=scale, kernel=linear; total time=   4.9s\n",
            "[CV] END .......................C=1, gamma=scale, kernel=rbf; total time=  11.8s\n",
            "[CV] END .......................C=1, gamma=scale, kernel=rbf; total time=  10.3s\n",
            "[CV] END ...................C=1, gamma=scale, kernel=sigmoid; total time=   4.8s\n",
            "[CV] END ...................C=1, gamma=scale, kernel=sigmoid; total time=   4.5s\n",
            "[CV] END .....................C=1, gamma=auto, kernel=linear; total time=   5.1s\n",
            "[CV] END .....................C=1, gamma=auto, kernel=linear; total time=   4.9s\n",
            "[CV] END ........................C=1, gamma=auto, kernel=rbf; total time=   4.2s\n",
            "[CV] END ........................C=1, gamma=auto, kernel=rbf; total time=   4.2s\n",
            "[CV] END ....................C=1, gamma=auto, kernel=sigmoid; total time=   3.7s\n",
            "[CV] END ....................C=1, gamma=auto, kernel=sigmoid; total time=   3.7s\n",
            "[CV] END ...................C=10, gamma=scale, kernel=linear; total time=   5.6s\n",
            "[CV] END ...................C=10, gamma=scale, kernel=linear; total time=   5.4s\n",
            "[CV] END ......................C=10, gamma=scale, kernel=rbf; total time=  10.1s\n",
            "[CV] END ......................C=10, gamma=scale, kernel=rbf; total time=   9.9s\n",
            "[CV] END ..................C=10, gamma=scale, kernel=sigmoid; total time=   7.5s\n",
            "[CV] END ..................C=10, gamma=scale, kernel=sigmoid; total time=   6.3s\n",
            "[CV] END ....................C=10, gamma=auto, kernel=linear; total time=   5.2s\n",
            "[CV] END ....................C=10, gamma=auto, kernel=linear; total time=   5.2s\n",
            "[CV] END .......................C=10, gamma=auto, kernel=rbf; total time=   5.4s\n",
            "[CV] END .......................C=10, gamma=auto, kernel=rbf; total time=   5.4s\n",
            "[CV] END ...................C=10, gamma=auto, kernel=sigmoid; total time=   4.4s\n",
            "[CV] END ...................C=10, gamma=auto, kernel=sigmoid; total time=   4.4s\n",
            "\n",
            "\n",
            "Best parameters are: \n",
            "{'C': 10, 'gamma': 'scale', 'kernel': 'rbf'}\n"
          ]
        }
      ]
    },
    {
      "cell_type": "code",
      "source": [
        "so_train_accuracy, so_test_accuracy, so_train_auc, so_test_auc = check_scores(svm_optimal,x_train, x_test, y_train, y_test)"
      ],
      "metadata": {
        "execution": {
          "iopub.status.busy": "2022-01-06T07:24:43.965825Z",
          "iopub.execute_input": "2022-01-06T07:24:43.966078Z",
          "iopub.status.idle": "2022-01-06T07:25:36.927423Z",
          "shell.execute_reply.started": "2022-01-06T07:24:43.966043Z",
          "shell.execute_reply": "2022-01-06T07:25:36.926768Z"
        },
        "trusted": true,
        "colab": {
          "base_uri": "https://localhost:8080/",
          "height": 784
        },
        "id": "1V9dBdmWEOQy",
        "outputId": "130bef53-d8a8-4bf4-b77c-7407af52b4d7"
      },
      "execution_count": null,
      "outputs": [
        {
          "output_type": "stream",
          "name": "stdout",
          "text": [
            "==============================\n",
            "Test confusion matrix is: \n"
          ]
        },
        {
          "output_type": "display_data",
          "data": {
            "text/plain": [
              "<Figure size 1080x576 with 1 Axes>"
            ],
            "image/png": "[encoded data removed]"
          },
          "metadata": {
            "needs_background": "light"
          }
        },
        {
          "output_type": "stream",
          "name": "stdout",
          "text": [
            "==============================\n",
            "              precision    recall  f1-score   support\n",
            "\n",
            "           0       0.90      0.98      0.94      2323\n",
            "           1       0.86      0.56      0.68       563\n",
            "\n",
            "    accuracy                           0.90      2886\n",
            "   macro avg       0.88      0.77      0.81      2886\n",
            "weighted avg       0.89      0.90      0.89      2886\n",
            "\n",
            "==============================\n",
            "Train accuracy score:  0.996418255343732\n",
            "Test accuracy score:  0.8974358974358975\n",
            "==============================\n"
          ]
        }
      ]
    },
    {
      "cell_type": "markdown",
      "source": [
        "<div style=\"color:white;\n",
        "           display:fill;\n",
        "           border-radius:5px;\n",
        "           font-size:110%;\n",
        "           font-family:cursive;\n",
        "           letter-spacing:0.5px;\n",
        "           background-color:powderblue;\n",
        "           color:Black;\n",
        "           font-family:cursive\n",
        "           \">\n",
        "<h1 style=\"text-align:center;font-weight: bold\"> Using Multinomial Naive Bayes </h1>\n",
        "</div>\n"
      ],
      "metadata": {
        "id": "WALT4figEOQy"
      }
    },
    {
      "cell_type": "code",
      "source": [
        "m_train_accuracy, m_test_accuracy, m_train_auc, m_test_auc = check_scores(MultinomialNB(),x_train, x_test, y_train, y_test)\n"
      ],
      "metadata": {
        "execution": {
          "iopub.status.busy": "2022-01-06T07:25:36.928675Z",
          "iopub.execute_input": "2022-01-06T07:25:36.928908Z",
          "iopub.status.idle": "2022-01-06T07:25:37.388852Z",
          "shell.execute_reply.started": "2022-01-06T07:25:36.928876Z",
          "shell.execute_reply": "2022-01-06T07:25:37.388174Z"
        },
        "trusted": true,
        "colab": {
          "base_uri": "https://localhost:8080/",
          "height": 784
        },
        "id": "lkKJKSaNEOQy",
        "outputId": "397895ff-a42e-41a1-becb-cc5cd3fc3848"
      },
      "execution_count": null,
      "outputs": [
        {
          "output_type": "stream",
          "name": "stdout",
          "text": [
            "==============================\n",
            "Test confusion matrix is: \n"
          ]
        },
        {
          "output_type": "display_data",
          "data": {
            "text/plain": [
              "<Figure size 1080x576 with 1 Axes>"
            ],
            "image/png": "[encoded data removed]"
          },
          "metadata": {
            "needs_background": "light"
          }
        },
        {
          "output_type": "stream",
          "name": "stdout",
          "text": [
            "==============================\n",
            "              precision    recall  f1-score   support\n",
            "\n",
            "           0       0.83      1.00      0.91      2323\n",
            "           1       0.95      0.16      0.27       563\n",
            "\n",
            "    accuracy                           0.83      2886\n",
            "   macro avg       0.89      0.58      0.59      2886\n",
            "weighted avg       0.85      0.83      0.78      2886\n",
            "\n",
            "==============================\n",
            "Train accuracy score:  0.8500288850375506\n",
            "Test accuracy score:  0.834026334026334\n",
            "==============================\n"
          ]
        }
      ]
    },
    {
      "cell_type": "markdown",
      "source": [
        "<div style=\"color:white;\n",
        "           display:fill;\n",
        "           border-radius:5px;\n",
        "           font-size:110%;\n",
        "           font-family:cursive;\n",
        "           letter-spacing:0.5px;\n",
        "           background-color:powderblue;\n",
        "           color:Black;\n",
        "           font-family:cursive\n",
        "           \">\n",
        "<h1 style=\"text-align:center;font-weight: bold\"> Using Gaussian Naive Bayes\n",
        " </h1>\n",
        "</div>\n"
      ],
      "metadata": {
        "id": "p-GekU1QEOQz"
      }
    },
    {
      "cell_type": "code",
      "source": [
        "g_train_accuracy, g_test_accuracy, g_train_auc, g_test_auc=check_scores(GaussianNB(),x_train.toarray(), x_test.toarray(), y_train, y_test)\n"
      ],
      "metadata": {
        "execution": {
          "iopub.status.busy": "2022-01-06T07:25:37.392697Z",
          "iopub.execute_input": "2022-01-06T07:25:37.394608Z",
          "iopub.status.idle": "2022-01-06T07:25:43.719398Z",
          "shell.execute_reply.started": "2022-01-06T07:25:37.394570Z",
          "shell.execute_reply": "2022-01-06T07:25:43.718722Z"
        },
        "trusted": true,
        "colab": {
          "base_uri": "https://localhost:8080/",
          "height": 784
        },
        "id": "ja8vB7RZEOQz",
        "outputId": "97444e67-56b4-480b-9c44-5ca7019854f6"
      },
      "execution_count": null,
      "outputs": [
        {
          "output_type": "stream",
          "name": "stdout",
          "text": [
            "==============================\n",
            "Test confusion matrix is: \n"
          ]
        },
        {
          "output_type": "display_data",
          "data": {
            "text/plain": [
              "<Figure size 1080x576 with 1 Axes>"
            ],
            "image/png": "[encoded data removed]"
          },
          "metadata": {
            "needs_background": "light"
          }
        },
        {
          "output_type": "stream",
          "name": "stdout",
          "text": [
            "==============================\n",
            "              precision    recall  f1-score   support\n",
            "\n",
            "           0       0.90      0.70      0.79      2323\n",
            "           1       0.35      0.68      0.46       563\n",
            "\n",
            "    accuracy                           0.69      2886\n",
            "   macro avg       0.63      0.69      0.63      2886\n",
            "weighted avg       0.79      0.69      0.72      2886\n",
            "\n",
            "==============================\n",
            "Train accuracy score:  0.8484113229347198\n",
            "Test accuracy score:  0.6947331947331947\n",
            "==============================\n"
          ]
        }
      ]
    },
    {
      "cell_type": "markdown",
      "source": [
        "<div style=\"color:white;\n",
        "           display:fill;\n",
        "           border-radius:5px;\n",
        "           font-size:110%;\n",
        "           font-family:cursive;\n",
        "           letter-spacing:0.5px;\n",
        "           background-color:powderblue;\n",
        "           color:Black;\n",
        "           font-family:cursive\n",
        "           \">\n",
        "<h1 style=\"text-align:center;font-weight: bold\"> Using AdaBoost\n",
        " </h1>\n",
        "</div>\n"
      ],
      "metadata": {
        "id": "iyi3RicfEOQz"
      }
    },
    {
      "cell_type": "code",
      "source": [
        "a_train_accuracy, a_test_accuracy, a_train_auc, a_test_auc=check_scores(AdaBoostClassifier(),x_train,x_test, y_train, y_test)\n"
      ],
      "metadata": {
        "execution": {
          "iopub.status.busy": "2022-01-06T07:25:43.720796Z",
          "iopub.execute_input": "2022-01-06T07:25:43.721065Z",
          "iopub.status.idle": "2022-01-06T07:25:47.215851Z",
          "shell.execute_reply.started": "2022-01-06T07:25:43.721026Z",
          "shell.execute_reply": "2022-01-06T07:25:47.215079Z"
        },
        "trusted": true,
        "colab": {
          "base_uri": "https://localhost:8080/",
          "height": 784
        },
        "id": "wvGlIIGJEOQz",
        "outputId": "9b5efb75-981c-4a72-dc0b-9539b8b3fd0a"
      },
      "execution_count": null,
      "outputs": [
        {
          "output_type": "stream",
          "name": "stdout",
          "text": [
            "==============================\n",
            "Test confusion matrix is: \n"
          ]
        },
        {
          "output_type": "display_data",
          "data": {
            "text/plain": [
              "<Figure size 1080x576 with 1 Axes>"
            ],
            "image/png": "[encoded data removed]"
          },
          "metadata": {
            "needs_background": "light"
          }
        },
        {
          "output_type": "stream",
          "name": "stdout",
          "text": [
            "==============================\n",
            "              precision    recall  f1-score   support\n",
            "\n",
            "           0       0.87      0.97      0.92      2323\n",
            "           1       0.77      0.42      0.54       563\n",
            "\n",
            "    accuracy                           0.86      2886\n",
            "   macro avg       0.82      0.69      0.73      2886\n",
            "weighted avg       0.85      0.86      0.84      2886\n",
            "\n",
            "==============================\n",
            "Train accuracy score:  0.8599653379549393\n",
            "Test accuracy score:  0.8613998613998614\n",
            "==============================\n"
          ]
        }
      ]
    },
    {
      "cell_type": "code",
      "source": [
        "params = {'n_estimators': [10, 50, 100, 500],\n",
        " 'learning_rate': [0.0001, 0.001, 0.01, 0.1, 1.0],\n",
        " 'algorithm': ['SAMME', 'SAMME.R']}\n",
        "\n",
        "ada_optimal_model = grid_search(AdaBoostClassifier(), params,x_train, y_train)"
      ],
      "metadata": {
        "execution": {
          "iopub.status.busy": "2022-01-06T07:25:47.217096Z",
          "iopub.execute_input": "2022-01-06T07:25:47.217357Z",
          "iopub.status.idle": "2022-01-06T07:31:35.356287Z",
          "shell.execute_reply.started": "2022-01-06T07:25:47.217328Z",
          "shell.execute_reply": "2022-01-06T07:31:35.355511Z"
        },
        "trusted": true,
        "colab": {
          "base_uri": "https://localhost:8080/"
        },
        "id": "8_9CqEhxEOQ0",
        "outputId": "8ccf4b55-f4eb-4702-d74f-a782e0a99f7b"
      },
      "execution_count": null,
      "outputs": [
        {
          "output_type": "stream",
          "name": "stdout",
          "text": [
            "Fitting 2 folds for each of 40 candidates, totalling 80 fits\n",
            "[CV] END algorithm=SAMME, learning_rate=0.0001, n_estimators=10; total time=   0.2s\n",
            "[CV] END algorithm=SAMME, learning_rate=0.0001, n_estimators=10; total time=   0.3s\n",
            "[CV] END algorithm=SAMME, learning_rate=0.0001, n_estimators=50; total time=   1.1s\n",
            "[CV] END algorithm=SAMME, learning_rate=0.0001, n_estimators=50; total time=   1.1s\n",
            "[CV] END algorithm=SAMME, learning_rate=0.0001, n_estimators=100; total time=   2.3s\n",
            "[CV] END algorithm=SAMME, learning_rate=0.0001, n_estimators=100; total time=   2.2s\n",
            "[CV] END algorithm=SAMME, learning_rate=0.0001, n_estimators=500; total time=  12.2s\n",
            "[CV] END algorithm=SAMME, learning_rate=0.0001, n_estimators=500; total time=  11.2s\n",
            "[CV] END algorithm=SAMME, learning_rate=0.001, n_estimators=10; total time=   0.2s\n",
            "[CV] END algorithm=SAMME, learning_rate=0.001, n_estimators=10; total time=   0.2s\n",
            "[CV] END algorithm=SAMME, learning_rate=0.001, n_estimators=50; total time=   1.1s\n",
            "[CV] END algorithm=SAMME, learning_rate=0.001, n_estimators=50; total time=   1.1s\n",
            "[CV] END algorithm=SAMME, learning_rate=0.001, n_estimators=100; total time=   2.3s\n",
            "[CV] END algorithm=SAMME, learning_rate=0.001, n_estimators=100; total time=   2.3s\n",
            "[CV] END algorithm=SAMME, learning_rate=0.001, n_estimators=500; total time=  11.2s\n",
            "[CV] END algorithm=SAMME, learning_rate=0.001, n_estimators=500; total time=  11.3s\n",
            "[CV] END algorithm=SAMME, learning_rate=0.01, n_estimators=10; total time=   0.2s\n",
            "[CV] END algorithm=SAMME, learning_rate=0.01, n_estimators=10; total time=   0.2s\n",
            "[CV] END algorithm=SAMME, learning_rate=0.01, n_estimators=50; total time=   1.2s\n",
            "[CV] END algorithm=SAMME, learning_rate=0.01, n_estimators=50; total time=   1.1s\n",
            "[CV] END algorithm=SAMME, learning_rate=0.01, n_estimators=100; total time=   2.3s\n",
            "[CV] END algorithm=SAMME, learning_rate=0.01, n_estimators=100; total time=   2.3s\n",
            "[CV] END algorithm=SAMME, learning_rate=0.01, n_estimators=500; total time=  11.2s\n",
            "[CV] END algorithm=SAMME, learning_rate=0.01, n_estimators=500; total time=  12.3s\n",
            "[CV] END algorithm=SAMME, learning_rate=0.1, n_estimators=10; total time=   0.2s\n",
            "[CV] END algorithm=SAMME, learning_rate=0.1, n_estimators=10; total time=   0.2s\n",
            "[CV] END algorithm=SAMME, learning_rate=0.1, n_estimators=50; total time=   1.1s\n",
            "[CV] END algorithm=SAMME, learning_rate=0.1, n_estimators=50; total time=   1.1s\n",
            "[CV] END algorithm=SAMME, learning_rate=0.1, n_estimators=100; total time=   2.3s\n",
            "[CV] END algorithm=SAMME, learning_rate=0.1, n_estimators=100; total time=   2.3s\n",
            "[CV] END algorithm=SAMME, learning_rate=0.1, n_estimators=500; total time=  11.4s\n",
            "[CV] END algorithm=SAMME, learning_rate=0.1, n_estimators=500; total time=  11.2s\n",
            "[CV] END algorithm=SAMME, learning_rate=1.0, n_estimators=10; total time=   0.2s\n",
            "[CV] END algorithm=SAMME, learning_rate=1.0, n_estimators=10; total time=   0.2s\n",
            "[CV] END algorithm=SAMME, learning_rate=1.0, n_estimators=50; total time=   1.1s\n",
            "[CV] END algorithm=SAMME, learning_rate=1.0, n_estimators=50; total time=   1.1s\n",
            "[CV] END algorithm=SAMME, learning_rate=1.0, n_estimators=100; total time=   2.2s\n",
            "[CV] END algorithm=SAMME, learning_rate=1.0, n_estimators=100; total time=   2.2s\n",
            "[CV] END algorithm=SAMME, learning_rate=1.0, n_estimators=500; total time=  12.3s\n",
            "[CV] END algorithm=SAMME, learning_rate=1.0, n_estimators=500; total time=  11.3s\n",
            "[CV] END algorithm=SAMME.R, learning_rate=0.0001, n_estimators=10; total time=   0.2s\n",
            "[CV] END algorithm=SAMME.R, learning_rate=0.0001, n_estimators=10; total time=   0.2s\n",
            "[CV] END algorithm=SAMME.R, learning_rate=0.0001, n_estimators=50; total time=   1.2s\n",
            "[CV] END algorithm=SAMME.R, learning_rate=0.0001, n_estimators=50; total time=   1.2s\n",
            "[CV] END algorithm=SAMME.R, learning_rate=0.0001, n_estimators=100; total time=   2.4s\n",
            "[CV] END algorithm=SAMME.R, learning_rate=0.0001, n_estimators=100; total time=   2.9s\n",
            "[CV] END algorithm=SAMME.R, learning_rate=0.0001, n_estimators=500; total time=  12.1s\n",
            "[CV] END algorithm=SAMME.R, learning_rate=0.0001, n_estimators=500; total time=  14.1s\n",
            "[CV] END algorithm=SAMME.R, learning_rate=0.001, n_estimators=10; total time=   0.2s\n",
            "[CV] END algorithm=SAMME.R, learning_rate=0.001, n_estimators=10; total time=   0.2s\n",
            "[CV] END algorithm=SAMME.R, learning_rate=0.001, n_estimators=50; total time=   1.2s\n",
            "[CV] END algorithm=SAMME.R, learning_rate=0.001, n_estimators=50; total time=   1.2s\n",
            "[CV] END algorithm=SAMME.R, learning_rate=0.001, n_estimators=100; total time=   2.4s\n",
            "[CV] END algorithm=SAMME.R, learning_rate=0.001, n_estimators=100; total time=   2.4s\n",
            "[CV] END algorithm=SAMME.R, learning_rate=0.001, n_estimators=500; total time=  11.9s\n",
            "[CV] END algorithm=SAMME.R, learning_rate=0.001, n_estimators=500; total time=  11.9s\n",
            "[CV] END algorithm=SAMME.R, learning_rate=0.01, n_estimators=10; total time=   0.2s\n",
            "[CV] END algorithm=SAMME.R, learning_rate=0.01, n_estimators=10; total time=   0.2s\n",
            "[CV] END algorithm=SAMME.R, learning_rate=0.01, n_estimators=50; total time=   1.2s\n",
            "[CV] END algorithm=SAMME.R, learning_rate=0.01, n_estimators=50; total time=   1.2s\n",
            "[CV] END algorithm=SAMME.R, learning_rate=0.01, n_estimators=100; total time=   2.4s\n",
            "[CV] END algorithm=SAMME.R, learning_rate=0.01, n_estimators=100; total time=   2.4s\n",
            "[CV] END algorithm=SAMME.R, learning_rate=0.01, n_estimators=500; total time=  12.8s\n",
            "[CV] END algorithm=SAMME.R, learning_rate=0.01, n_estimators=500; total time=  11.7s\n",
            "[CV] END algorithm=SAMME.R, learning_rate=0.1, n_estimators=10; total time=   0.2s\n",
            "[CV] END algorithm=SAMME.R, learning_rate=0.1, n_estimators=10; total time=   0.2s\n",
            "[CV] END algorithm=SAMME.R, learning_rate=0.1, n_estimators=50; total time=   1.2s\n",
            "[CV] END algorithm=SAMME.R, learning_rate=0.1, n_estimators=50; total time=   1.2s\n",
            "[CV] END algorithm=SAMME.R, learning_rate=0.1, n_estimators=100; total time=   2.4s\n",
            "[CV] END algorithm=SAMME.R, learning_rate=0.1, n_estimators=100; total time=   2.4s\n",
            "[CV] END algorithm=SAMME.R, learning_rate=0.1, n_estimators=500; total time=  11.8s\n",
            "[CV] END algorithm=SAMME.R, learning_rate=0.1, n_estimators=500; total time=  13.0s\n",
            "[CV] END algorithm=SAMME.R, learning_rate=1.0, n_estimators=10; total time=   0.2s\n",
            "[CV] END algorithm=SAMME.R, learning_rate=1.0, n_estimators=10; total time=   0.2s\n",
            "[CV] END algorithm=SAMME.R, learning_rate=1.0, n_estimators=50; total time=   1.2s\n",
            "[CV] END algorithm=SAMME.R, learning_rate=1.0, n_estimators=50; total time=   1.2s\n",
            "[CV] END algorithm=SAMME.R, learning_rate=1.0, n_estimators=100; total time=   2.4s\n",
            "[CV] END algorithm=SAMME.R, learning_rate=1.0, n_estimators=100; total time=   2.4s\n",
            "[CV] END algorithm=SAMME.R, learning_rate=1.0, n_estimators=500; total time=  12.9s\n",
            "[CV] END algorithm=SAMME.R, learning_rate=1.0, n_estimators=500; total time=  11.6s\n",
            "\n",
            "\n",
            "Best parameters are: \n",
            "{'algorithm': 'SAMME.R', 'learning_rate': 0.1, 'n_estimators': 500}\n"
          ]
        }
      ]
    },
    {
      "cell_type": "code",
      "source": [
        "ao_train_accuracy, ao_test_accuracy, ao_train_auc, ao_test_auc=check_scores(ada_optimal_model,x_train,x_test, y_train, y_test)\n"
      ],
      "metadata": {
        "execution": {
          "iopub.status.busy": "2022-01-06T07:31:35.357457Z",
          "iopub.execute_input": "2022-01-06T07:31:35.358260Z",
          "iopub.status.idle": "2022-01-06T07:32:07.554842Z",
          "shell.execute_reply.started": "2022-01-06T07:31:35.358218Z",
          "shell.execute_reply": "2022-01-06T07:32:07.554186Z"
        },
        "trusted": true,
        "colab": {
          "base_uri": "https://localhost:8080/",
          "height": 784
        },
        "id": "Z-UExoFCEOQ0",
        "outputId": "111ee35b-1c65-4eaa-990a-6c18354f596c"
      },
      "execution_count": null,
      "outputs": [
        {
          "output_type": "stream",
          "name": "stdout",
          "text": [
            "==============================\n",
            "Test confusion matrix is: \n"
          ]
        },
        {
          "output_type": "display_data",
          "data": {
            "text/plain": [
              "<Figure size 1080x576 with 1 Axes>"
            ],
            "image/png": "[encoded data removed]"
          },
          "metadata": {
            "needs_background": "light"
          }
        },
        {
          "output_type": "stream",
          "name": "stdout",
          "text": [
            "==============================\n",
            "              precision    recall  f1-score   support\n",
            "\n",
            "           0       0.87      0.98      0.92      2323\n",
            "           1       0.83      0.40      0.54       563\n",
            "\n",
            "    accuracy                           0.87      2886\n",
            "   macro avg       0.85      0.69      0.73      2886\n",
            "weighted avg       0.86      0.87      0.85      2886\n",
            "\n",
            "==============================\n",
            "Train accuracy score:  0.868630849220104\n",
            "Test accuracy score:  0.8665973665973666\n",
            "==============================\n"
          ]
        }
      ]
    },
    {
      "cell_type": "markdown",
      "source": [
        "<div style=\"color:white;\n",
        "           display:fill;\n",
        "           border-radius:5px;\n",
        "           font-size:110%;\n",
        "           font-family:cursive;\n",
        "           letter-spacing:0.5px;\n",
        "           background-color:powderblue;\n",
        "           color:Black;\n",
        "           font-family:cursive\n",
        "           \">\n",
        "<h1 style=\"text-align:center;font-weight: bold\"> Bagging with MultinomialNB\n",
        " </h1>\n",
        "</div>\n"
      ],
      "metadata": {
        "id": "jlsKenpnEOQ0"
      }
    },
    {
      "cell_type": "code",
      "source": [
        "kfold = model_selection.KFold(n_splits = 3)\n",
        "  \n",
        "# bagging classifier\n",
        "model = BaggingClassifier(base_estimator = MultinomialNB(),\n",
        "                          n_estimators = 100)\n",
        "\n",
        "b_train_accuracy, b_test_accuracy, b_train_auc, b_test_auc= check_scores(model,x_train,x_test, y_train, y_test)\n"
      ],
      "metadata": {
        "execution": {
          "iopub.status.busy": "2022-01-06T07:32:07.556017Z",
          "iopub.execute_input": "2022-01-06T07:32:07.556354Z",
          "iopub.status.idle": "2022-01-06T07:32:09.342833Z",
          "shell.execute_reply.started": "2022-01-06T07:32:07.556312Z",
          "shell.execute_reply": "2022-01-06T07:32:09.342190Z"
        },
        "trusted": true,
        "colab": {
          "base_uri": "https://localhost:8080/",
          "height": 784
        },
        "id": "KfsZ_ImfEOQ0",
        "outputId": "fe7e5fd1-6151-4730-96a6-bc7591503e99"
      },
      "execution_count": null,
      "outputs": [
        {
          "output_type": "stream",
          "name": "stdout",
          "text": [
            "==============================\n",
            "Test confusion matrix is: \n"
          ]
        },
        {
          "output_type": "display_data",
          "data": {
            "text/plain": [
              "<Figure size 1080x576 with 1 Axes>"
            ],
            "image/png": "[encoded data removed]"
          },
          "metadata": {
            "needs_background": "light"
          }
        },
        {
          "output_type": "stream",
          "name": "stdout",
          "text": [
            "==============================\n",
            "              precision    recall  f1-score   support\n",
            "\n",
            "           0       0.83      1.00      0.91      2323\n",
            "           1       0.96      0.16      0.27       563\n",
            "\n",
            "    accuracy                           0.83      2886\n",
            "   macro avg       0.89      0.58      0.59      2886\n",
            "weighted avg       0.85      0.83      0.78      2886\n",
            "\n",
            "==============================\n",
            "Train accuracy score:  0.8489890236857308\n",
            "Test accuracy score:  0.834026334026334\n",
            "==============================\n"
          ]
        }
      ]
    },
    {
      "cell_type": "markdown",
      "source": [
        "<div style=\"color:white;\n",
        "           display:fill;\n",
        "           border-radius:5px;\n",
        "           font-size:110%;\n",
        "           font-family:cursive;\n",
        "           letter-spacing:0.5px;\n",
        "           background-color:powderblue;\n",
        "           color:Black;\n",
        "           font-family:cursive\n",
        "           \">\n",
        "<h1 style=\"text-align:center;font-weight: bold\">Using Random Forest\n",
        " </h1>\n",
        "</div>\n",
        "\n"
      ],
      "metadata": {
        "id": "ZCzjM8eUEOQ1"
      }
    },
    {
      "cell_type": "code",
      "source": [
        "r_train_accuracy, r_test_accuracy, r_train_auc, r_test_auc= check_scores(RandomForestClassifier(random_state=0).fit(x_train, y_train), x_train,x_test,y_train,y_test)"
      ],
      "metadata": {
        "execution": {
          "iopub.status.busy": "2022-01-06T07:32:09.344047Z",
          "iopub.execute_input": "2022-01-06T07:32:09.344510Z",
          "iopub.status.idle": "2022-01-06T07:32:36.268949Z",
          "shell.execute_reply.started": "2022-01-06T07:32:09.344472Z",
          "shell.execute_reply": "2022-01-06T07:32:36.268210Z"
        },
        "trusted": true,
        "colab": {
          "base_uri": "https://localhost:8080/",
          "height": 784
        },
        "id": "BLeT_mAFEOQ1",
        "outputId": "fb24fb00-ed7c-4552-c8a4-83cbac04fce7"
      },
      "execution_count": null,
      "outputs": [
        {
          "output_type": "stream",
          "name": "stdout",
          "text": [
            "==============================\n",
            "Test confusion matrix is: \n"
          ]
        },
        {
          "output_type": "display_data",
          "data": {
            "text/plain": [
              "<Figure size 1080x576 with 1 Axes>"
            ],
            "image/png": "[encoded data removed]"
          },
          "metadata": {
            "needs_background": "light"
          }
        },
        {
          "output_type": "stream",
          "name": "stdout",
          "text": [
            "==============================\n",
            "              precision    recall  f1-score   support\n",
            "\n",
            "           0       0.90      0.95      0.93      2323\n",
            "           1       0.75      0.58      0.65       563\n",
            "\n",
            "    accuracy                           0.88      2886\n",
            "   macro avg       0.83      0.77      0.79      2886\n",
            "weighted avg       0.87      0.88      0.87      2886\n",
            "\n",
            "==============================\n",
            "Train accuracy score:  0.996418255343732\n",
            "Test accuracy score:  0.8801108801108801\n",
            "==============================\n"
          ]
        }
      ]
    },
    {
      "cell_type": "markdown",
      "source": [
        "<div style=\"color:white;\n",
        "           display:fill;\n",
        "           border-radius:5px;\n",
        "           font-size:110%;\n",
        "           font-family:cursive;\n",
        "           letter-spacing:0.5px;\n",
        "           background-color:powderblue;\n",
        "           color:Black;\n",
        "           font-family:cursive\n",
        "           \">\n",
        "<h1 style=\"text-align:center;font-weight: bold\">Final Results\n",
        " </h1>\n",
        "</div>\n",
        "\n"
      ],
      "metadata": {
        "id": "_7aCMLvYEOQ2"
      }
    },
    {
      "cell_type": "code",
      "source": [
        "data = [('Random Forest', r_train_accuracy, r_test_accuracy),\n",
        " ('MultinomialNB',m_train_accuracy, m_test_accuracy ),\n",
        "('Bagged MultinomialNB',b_train_accuracy, b_test_accuracy ),\n",
        " ('AdaBoost',a_train_accuracy, a_test_accuracy),\n",
        "('AdaBoost Optimized',ao_train_accuracy, ao_test_accuracy),\n",
        "('Gaussian Naive Bayes',g_train_accuracy, g_test_accuracy),\n",
        "('SVM', s_train_accuracy, s_test_accuracy),\n",
        "('SVM Optimized', so_train_accuracy, so_test_accuracy)]\n",
        "\n",
        "\n",
        "Scores_ =pd.DataFrame(data = data, columns=['Model Name','Train Accuracy', 'Test Accuracy'])\n",
        "Scores_.set_index('Model Name', inplace = True)\n",
        "\n",
        "Scores_"
      ],
      "metadata": {
        "execution": {
          "iopub.status.busy": "2022-01-06T07:33:04.897499Z",
          "iopub.execute_input": "2022-01-06T07:33:04.897820Z",
          "iopub.status.idle": "2022-01-06T07:33:04.914992Z",
          "shell.execute_reply.started": "2022-01-06T07:33:04.897783Z",
          "shell.execute_reply": "2022-01-06T07:33:04.914291Z"
        },
        "trusted": true,
        "colab": {
          "base_uri": "https://localhost:8080/",
          "height": 331
        },
        "id": "c9Dplii5EOQ2",
        "outputId": "2d021fb4-cce0-433b-8738-633e6f789f27"
      },
      "execution_count": null,
      "outputs": [
        {
          "output_type": "execute_result",
          "data": {
            "text/plain": [
              "                      Train Accuracy  Test Accuracy\n",
              "Model Name                                         \n",
              "Random Forest               0.996418       0.880111\n",
              "MultinomialNB               0.850029       0.834026\n",
              "Bagged MultinomialNB        0.848989       0.834026\n",
              "AdaBoost                    0.859965       0.861400\n",
              "AdaBoost Optimized          0.868631       0.866597\n",
              "Gaussian Naive Bayes        0.848411       0.694733\n",
              "SVM                         0.978972       0.886348\n",
              "SVM Optimized               0.996418       0.897436"
            ],
            "text/html": [
              "\n",
              "  <div id=\"df-27417abd-7c4a-43ec-ba9f-04a0c64d0ea4\">\n",
              "    <div class=\"colab-df-container\">\n",
              "      <div>\n",
              "<style scoped>\n",
              "    .dataframe tbody tr th:only-of-type {\n",
              "        vertical-align: middle;\n",
              "    }\n",
              "\n",
              "    .dataframe tbody tr th {\n",
              "        vertical-align: top;\n",
              "    }\n",
              "\n",
              "    .dataframe thead th {\n",
              "        text-align: right;\n",
              "    }\n",
              "</style>\n",
              "<table border=\"1\" class=\"dataframe\">\n",
              "  <thead>\n",
              "    <tr style=\"text-align: right;\">\n",
              "      <th></th>\n",
              "      <th>Train Accuracy</th>\n",
              "      <th>Test Accuracy</th>\n",
              "    </tr>\n",
              "    <tr>\n",
              "      <th>Model Name</th>\n",
              "      <th></th>\n",
              "      <th></th>\n",
              "    </tr>\n",
              "  </thead>\n",
              "  <tbody>\n",
              "    <tr>\n",
              "      <th>Random Forest</th>\n",
              "      <td>0.996418</td>\n",
              "      <td>0.880111</td>\n",
              "    </tr>\n",
              "    <tr>\n",
              "      <th>MultinomialNB</th>\n",
              "      <td>0.850029</td>\n",
              "      <td>0.834026</td>\n",
              "    </tr>\n",
              "    <tr>\n",
              "      <th>Bagged MultinomialNB</th>\n",
              "      <td>0.848989</td>\n",
              "      <td>0.834026</td>\n",
              "    </tr>\n",
              "    <tr>\n",
              "      <th>AdaBoost</th>\n",
              "      <td>0.859965</td>\n",
              "      <td>0.861400</td>\n",
              "    </tr>\n",
              "    <tr>\n",
              "      <th>AdaBoost Optimized</th>\n",
              "      <td>0.868631</td>\n",
              "      <td>0.866597</td>\n",
              "    </tr>\n",
              "    <tr>\n",
              "      <th>Gaussian Naive Bayes</th>\n",
              "      <td>0.848411</td>\n",
              "      <td>0.694733</td>\n",
              "    </tr>\n",
              "    <tr>\n",
              "      <th>SVM</th>\n",
              "      <td>0.978972</td>\n",
              "      <td>0.886348</td>\n",
              "    </tr>\n",
              "    <tr>\n",
              "      <th>SVM Optimized</th>\n",
              "      <td>0.996418</td>\n",
              "      <td>0.897436</td>\n",
              "    </tr>\n",
              "  </tbody>\n",
              "</table>\n",
              "</div>\n",
              "      <button class=\"colab-df-convert\" onclick=\"convertToInteractive('df-27417abd-7c4a-43ec-ba9f-04a0c64d0ea4')\"\n",
              "              title=\"Convert this dataframe to an interactive table.\"\n",
              "              style=\"display:none;\">\n",
              "        \n",
              "  <svg xmlns=\"http://www.w3.org/2000/svg\" height=\"24px\"viewBox=\"0 0 24 24\"\n",
              "       width=\"24px\">\n",
              "    <path d=\"M0 0h24v24H0V0z\" fill=\"none\"/>\n",
              "    <path d=\"M18.56 5.44l.94 2.06.94-2.06 2.06-.94-2.06-.94-.94-2.06-.94 2.06-2.06.94zm-11 1L8.5 8.5l.94-2.06 2.06-.94-2.06-.94L8.5 2.5l-.94 2.06-2.06.94zm10 10l.94 2.06.94-2.06 2.06-.94-2.06-.94-.94-2.06-.94 2.06-2.06.94z\"/><path d=\"M17.41 7.96l-1.37-1.37c-.4-.4-.92-.59-1.43-.59-.52 0-1.04.2-1.43.59L10.3 9.45l-7.72 7.72c-.78.78-.78 2.05 0 2.83L4 21.41c.39.39.9.59 1.41.59.51 0 1.02-.2 1.41-.59l7.78-7.78 2.81-2.81c.8-.78.8-2.07 0-2.86zM5.41 20L4 18.59l7.72-7.72 1.47 1.35L5.41 20z\"/>\n",
              "  </svg>\n",
              "      </button>\n",
              "      \n",
              "  <style>\n",
              "    .colab-df-container {\n",
              "      display:flex;\n",
              "      flex-wrap:wrap;\n",
              "      gap: 12px;\n",
              "    }\n",
              "\n",
              "    .colab-df-convert {\n",
              "      background-color: #E8F0FE;\n",
              "      border: none;\n",
              "      border-radius: 50%;\n",
              "      cursor: pointer;\n",
              "      display: none;\n",
              "      fill: #1967D2;\n",
              "      height: 32px;\n",
              "      padding: 0 0 0 0;\n",
              "      width: 32px;\n",
              "    }\n",
              "\n",
              "    .colab-df-convert:hover {\n",
              "      background-color: #E2EBFA;\n",
              "      box-shadow: 0px 1px 2px rgba(60, 64, 67, 0.3), 0px 1px 3px 1px rgba(60, 64, 67, 0.15);\n",
              "      fill: #174EA6;\n",
              "    }\n",
              "\n",
              "    [theme=dark] .colab-df-convert {\n",
              "      background-color: #3B4455;\n",
              "      fill: #D2E3FC;\n",
              "    }\n",
              "\n",
              "    [theme=dark] .colab-df-convert:hover {\n",
              "      background-color: #434B5C;\n",
              "      box-shadow: 0px 1px 3px 1px rgba(0, 0, 0, 0.15);\n",
              "      filter: drop-shadow(0px 1px 2px rgba(0, 0, 0, 0.3));\n",
              "      fill: #FFFFFF;\n",
              "    }\n",
              "  </style>\n",
              "\n",
              "      <script>\n",
              "        const buttonEl =\n",
              "          document.querySelector('#df-27417abd-7c4a-43ec-ba9f-04a0c64d0ea4 button.colab-df-convert');\n",
              "        buttonEl.style.display =\n",
              "          google.colab.kernel.accessAllowed ? 'block' : 'none';\n",
              "\n",
              "        async function convertToInteractive(key) {\n",
              "          const element = document.querySelector('#df-27417abd-7c4a-43ec-ba9f-04a0c64d0ea4');\n",
              "          const dataTable =\n",
              "            await google.colab.kernel.invokeFunction('convertToInteractive',\n",
              "                                                     [key], {});\n",
              "          if (!dataTable) return;\n",
              "\n",
              "          const docLinkHtml = 'Like what you see? Visit the ' +\n",
              "            '<a target=\"_blank\" href=https://colab.research.google.com/notebooks/data_table.ipynb>data table notebook</a>'\n",
              "            + ' to learn more about interactive tables.';\n",
              "          element.innerHTML = '';\n",
              "          dataTable['output_type'] = 'display_data';\n",
              "          await google.colab.output.renderOutput(dataTable, element);\n",
              "          const docLink = document.createElement('div');\n",
              "          docLink.innerHTML = docLinkHtml;\n",
              "          element.appendChild(docLink);\n",
              "        }\n",
              "      </script>\n",
              "    </div>\n",
              "  </div>\n",
              "  "
            ]
          },
          "metadata": {},
          "execution_count": 42
        }
      ]
    },
    {
      "cell_type": "markdown",
      "source": [
        "# **Checking our Model**"
      ],
      "metadata": {
        "id": "Cl8IkjNeIj4W"
      }
    },
    {
      "cell_type": "code",
      "source": [
        "sv_opt=svm.SVC(probability=True, C=10, kernel='rbf', gamma='scale')\n",
        "check=\"@AmericanAir Trying to rebook a flight with you because of Cancelled Flightlation is a nightmare. I was hung up on once. Can you help me rebook?\"\n",
        "clean_cheeck=clean_the_tweet(check)\n",
        "vectorizer = pickle.load(open(\"vectorizer.pickle\", 'rb'))\n",
        "new=vectorizer.transform([clean_cheeck])\n",
        "fit_model=sv_opt.fit(x_train, y_train)\n",
        "result=fit_model.predict(new)\n",
        "if result[0]==0:\n",
        "  print('Negative')\n",
        "else:\n",
        "  print(\"Positive\") \n"
      ],
      "metadata": {
        "id": "Yv2CjOBaLPU7",
        "colab": {
          "base_uri": "https://localhost:8080/"
        },
        "outputId": "0c6c911d-9ff5-4a8b-dd70-869fa89d8e8d"
      },
      "execution_count": null,
      "outputs": [
        {
          "output_type": "stream",
          "name": "stdout",
          "text": [
            "Negative\n"
          ]
        }
      ]
    },
    {
      "cell_type": "markdown",
      "source": [
        "**Awesome .... it works great** "
      ],
      "metadata": {
        "id": "CiJBGoiWI9PN"
      }
    },
    {
      "cell_type": "code",
      "source": [
        "pickle.dump(fit_model, open(\"fit_model.pickle\", \"wb\")) "
      ],
      "metadata": {
        "id": "S-8zAQB-FVJH"
      },
      "execution_count": null,
      "outputs": []
    }
  ]
}